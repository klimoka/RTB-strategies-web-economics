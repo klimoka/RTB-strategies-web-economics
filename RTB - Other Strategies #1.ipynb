{
 "cells": [
  {
   "cell_type": "code",
   "execution_count": 1,
   "metadata": {},
   "outputs": [
    {
     "name": "stderr",
     "output_type": "stream",
     "text": [
      "/Users/esra/anaconda/lib/python3.5/site-packages/sklearn/cross_validation.py:44: DeprecationWarning: This module was deprecated in version 0.18 in favor of the model_selection module into which all the refactored classes and functions are moved. Also note that the interface of the new CV iterators are different from that of this module. This module will be removed in 0.20.\n",
      "  \"This module will be removed in 0.20.\", DeprecationWarning)\n"
     ]
    }
   ],
   "source": [
    "import pandas as pd\n",
    "import matplotlib.pyplot as plt\n",
    "import numpy as np\n",
    "import numpy\n",
    "import xgboost as xgb"
   ]
  },
  {
   "cell_type": "code",
   "execution_count": 2,
   "metadata": {
    "collapsed": true
   },
   "outputs": [],
   "source": [
    "train_df = pd.read_csv(\"train.csv\")"
   ]
  },
  {
   "cell_type": "code",
   "execution_count": 3,
   "metadata": {
    "collapsed": true
   },
   "outputs": [],
   "source": [
    "valid_df = pd.read_csv(\"validation.csv\")"
   ]
  },
  {
   "cell_type": "markdown",
   "metadata": {},
   "source": [
    "### Clean Data"
   ]
  },
  {
   "cell_type": "code",
   "execution_count": 4,
   "metadata": {
    "collapsed": true
   },
   "outputs": [],
   "source": [
    "# convert train_df slotformat to number\n",
    "for index, c in train_df.iterrows():  \n",
    "    if c.slotformat in \"Na\":\n",
    "        train_df.set_value(index, 'slotformat', 10)\n",
    "        \n",
    "d = {'1': 1, '2': 2, '3': 3 ,'4': 4, 'null': 0}\n",
    "train_df['adexchange']=train_df['adexchange'].map(d)"
   ]
  },
  {
   "cell_type": "code",
   "execution_count": 5,
   "metadata": {
    "collapsed": true
   },
   "outputs": [],
   "source": [
    "# convert valid_df slotformat to number\n",
    "for index, c in valid_df.iterrows():  \n",
    "    if c.slotformat in \"Na\":\n",
    "        valid_df.set_value(index, 'slotformat', 10)\n",
    "\n",
    "d = {'1': 1, '2': 2, '3': 3 ,'4': 4, 'null': 0}\n",
    "valid_df['adexchange']=valid_df['adexchange'].map(d)"
   ]
  },
  {
   "cell_type": "code",
   "execution_count": 6,
   "metadata": {
    "collapsed": true
   },
   "outputs": [],
   "source": [
    "# Cluster the slotprice training\n",
    "train_df['slotprice_group']=train_df['slotprice']\n",
    "train_df['slotprice_group']=train_df['slotprice_group']/10\n",
    "\n",
    "# Cluster the slotprice validation\n",
    "valid_df['slotprice_group']=valid_df['slotprice']\n",
    "valid_df['slotprice_group']=valid_df['slotprice_group']/10"
   ]
  },
  {
   "cell_type": "code",
   "execution_count": 7,
   "metadata": {
    "collapsed": true,
    "scrolled": true
   },
   "outputs": [],
   "source": [
    "# split os and browser from useragent\n",
    "\n",
    "train_df=pd.concat([train_df, pd.DataFrame(train_df.useragent.str.split('_',1).tolist(),columns = ['os','browser'])], axis=1)\n",
    "\n",
    "valid_df=pd.concat([valid_df, pd.DataFrame(valid_df.useragent.str.split('_',1).tolist(),columns = ['os','browser'])], axis=1)\n"
   ]
  },
  {
   "cell_type": "code",
   "execution_count": 8,
   "metadata": {
    "collapsed": true
   },
   "outputs": [],
   "source": [
    "\n",
    "#convert os to numeric values\n",
    "o = {'android': 1, 'ios': 2, 'linux': 3 ,'mac': 4, 'windows': 5,'other': 6 }\n",
    "train_df['os']=train_df['os'].map(o)\n",
    "valid_df['os']=valid_df['os'].map(o)\n",
    "\n",
    "#convert browser to numberic values\n",
    "\n",
    "b={'chrome': 1, 'firefox': 2, 'ie': 3 ,'maxthon': 4, 'other': 5,'opera': 6,'safari': 7,'sogou': 8,'theworld': 9 }\n",
    "train_df['browser']=train_df['browser'].map(b)\n",
    "valid_df['browser']=valid_df['browser'].map(b)\n",
    "\n"
   ]
  },
  {
   "cell_type": "code",
   "execution_count": 9,
   "metadata": {
    "collapsed": true
   },
   "outputs": [],
   "source": [
    "# Calculate the area\n",
    "train_df['area'] = train_df['slotwidth']*train_df['slotheight']\n",
    "valid_df['area'] = valid_df['slotwidth']*valid_df['slotheight']\n"
   ]
  },
  {
   "cell_type": "code",
   "execution_count": 10,
   "metadata": {
    "collapsed": true
   },
   "outputs": [],
   "source": [
    "# fix Slotvisibility\n",
    "d = {'1': 1, '2': 2, '3': 3 ,'4': 4, '0': 0, '255': 5,'FirstView': 6, 'FourthView': 7,'Na': 10,'OtherView': 8,'SecondView': 9, \"Null\":10}\n",
    "train_df['slotvisibility']=train_df['slotvisibility'].map(d)\n",
    "valid_df['slotvisibility']=valid_df['slotvisibility'].map(d)\n",
    "\n",
    "train_df['slotvisibility']=train_df['slotvisibility'].fillna(10)\n",
    "valid_df['slotvisibility']=valid_df['slotvisibility'].fillna(10)"
   ]
  },
  {
   "cell_type": "code",
   "execution_count": 11,
   "metadata": {
    "collapsed": true
   },
   "outputs": [],
   "source": [
    "# combine weekday & hour columns\n",
    "train_df['wh']=(train_df['weekday']*100)+train_df['hour']\n",
    "valid_df['wh']=(valid_df['weekday']*100)+valid_df['hour']"
   ]
  },
  {
   "cell_type": "code",
   "execution_count": 12,
   "metadata": {
    "scrolled": true
   },
   "outputs": [
    {
     "name": "stdout",
     "output_type": "stream",
     "text": [
      "<class 'pandas.core.frame.DataFrame'>\n",
      "RangeIndex: 2697738 entries, 0 to 2697737\n",
      "Data columns (total 31 columns):\n",
      "click              int64\n",
      "weekday            int64\n",
      "hour               int64\n",
      "bidid              object\n",
      "logtype            int64\n",
      "userid             object\n",
      "useragent          object\n",
      "IP                 object\n",
      "region             int64\n",
      "city               int64\n",
      "adexchange         int64\n",
      "domain             object\n",
      "url                object\n",
      "urlid              object\n",
      "slotid             object\n",
      "slotwidth          int64\n",
      "slotheight         int64\n",
      "slotvisibility     float64\n",
      "slotformat         object\n",
      "slotprice          int64\n",
      "creative           object\n",
      "bidprice           int64\n",
      "payprice           int64\n",
      "keypage            object\n",
      "advertiser         int64\n",
      "usertag            object\n",
      "slotprice_group    float64\n",
      "os                 int64\n",
      "browser            int64\n",
      "area               int64\n",
      "wh                 int64\n",
      "dtypes: float64(2), int64(17), object(12)\n",
      "memory usage: 638.0+ MB\n"
     ]
    }
   ],
   "source": [
    "train_df.info()\n",
    "#train_df[train_df[\"click\"]==0].groupby(['payprice']).count()\n",
    " "
   ]
  },
  {
   "cell_type": "markdown",
   "metadata": {},
   "source": [
    "### Bidding"
   ]
  },
  {
   "cell_type": "code",
   "execution_count": 13,
   "metadata": {
    "collapsed": true
   },
   "outputs": [],
   "source": [
    "#Define features\n",
    "features = [ \"wh\",\"city\",\"region\",\"area\", \"slotprice\",\"slotvisibility\", \"advertiser\", \"adexchange\",\"os\",\"browser\"]\n",
    "\n",
    "X_train = train_df[features]\n",
    "y_train = train_df['click']\n",
    "\n",
    "#Convert the values to int\n",
    "X_train=X_train.astype(\"int\")\n"
   ]
  },
  {
   "cell_type": "code",
   "execution_count": 14,
   "metadata": {},
   "outputs": [
    {
     "data": {
      "text/plain": [
       "XGBRegressor(base_score=0.5, colsample_bylevel=1, colsample_bytree=1, gamma=0,\n",
       "       learning_rate=0.5, max_delta_step=0, max_depth=3,\n",
       "       min_child_weight=1, missing=None, n_estimators=100, nthread=-1,\n",
       "       objective='binary:logistic', reg_alpha=0, reg_lambda=1,\n",
       "       scale_pos_weight=1, seed=0, silent=True, subsample=1)"
      ]
     },
     "execution_count": 14,
     "metadata": {},
     "output_type": "execute_result"
    }
   ],
   "source": [
    "# Train the model to estimate pCTR\n",
    "clf = xgb.XGBRegressor(n_estimators=100, max_depth = 3, learning_rate=0.5, objective= 'binary:logistic')\n",
    "clf.fit(X_train, y_train,verbose=True)"
   ]
  },
  {
   "cell_type": "code",
   "execution_count": 15,
   "metadata": {
    "collapsed": true
   },
   "outputs": [],
   "source": [
    "# preprocess validation set\n",
    "X_valid = valid_df[features]\n",
    "X_valid=X_valid.astype(\"int\")"
   ]
  },
  {
   "cell_type": "code",
   "execution_count": 16,
   "metadata": {
    "collapsed": true
   },
   "outputs": [],
   "source": [
    "# predicts probabilities of being clicked for validation\n",
    "y_p_valid = clf.predict(X_valid)"
   ]
  },
  {
   "cell_type": "code",
   "execution_count": 17,
   "metadata": {},
   "outputs": [
    {
     "name": "stdout",
     "output_type": "stream",
     "text": [
      "Average CTR  0.000752739847911\n"
     ]
    }
   ],
   "source": [
    "avgCTR = sum(y_p_valid)/len(y_p_valid)\n",
    "print(\"Average CTR \", avgCTR)"
   ]
  },
  {
   "cell_type": "code",
   "execution_count": 18,
   "metadata": {
    "collapsed": true
   },
   "outputs": [],
   "source": [
    "def calculate_bid(base_bid, y_pred, avgCTR):\n",
    "    bid = np.multiply(y_pred, base_bid/avgCTR)\n",
    "    return bid"
   ]
  },
  {
   "cell_type": "code",
   "execution_count": 19,
   "metadata": {
    "collapsed": true
   },
   "outputs": [],
   "source": [
    "def max_bid_base(prices, y_p_valid, avgCTR):\n",
    "    ration = np.zeros(len(prices))\n",
    "    total = len(valid_df)\n",
    "\n",
    "    for i in range(len(prices)):\n",
    "        tmp = calculate_bid(prices[i], y_p_valid, avgCTR) # calculates our bid price\n",
    "        tmp_2 = valid_df.click[valid_df.bidprice < tmp] # stores 0/1 for those auctions we won\n",
    "        if len(tmp_2) == 0:\n",
    "            ration[i] = 0\n",
    "        else:\n",
    "            ration[i] = sum(tmp_2)/len(tmp_2) # clicked/won actions\n",
    "\n",
    "    print(\"The bid_base with best CTR: \", prices[ration.argmax()])\n",
    "    print(\"CTR for winning bid_base is \", ration.max())\n",
    "    return prices[ration.argmax()]"
   ]
  },
  {
   "cell_type": "code",
   "execution_count": 24,
   "metadata": {},
   "outputs": [
    {
     "name": "stdout",
     "output_type": "stream",
     "text": [
      "The bid_base with best CTR:  4\n",
      "CTR for winning bid_base is  0.25\n",
      "Cost for valid set  703 , CPC  703.0  impressions  4  clicks  1\n"
     ]
    }
   ],
   "source": [
    "prices = range(1, 450, 1)\n",
    "\n",
    "bid_base = max_bid_base(prices, y_p_valid, avgCTR)\n",
    "predicted_bid_v = calculate_bid(bid_base, y_p_valid, avgCTR)\n",
    "impressions_c = valid_df.click[valid_df.bidprice < predicted_bid_v]\n",
    "total_cost_c = sum(valid_df.payprice[valid_df.bidprice < predicted_bid_v])\n",
    "\n",
    "print(\"Cost for valid set \", total_cost_c, \", CPC \", (total_cost_c/sum(impressions_c)), \" impressions \",\\\n",
    "      len(impressions_c),\" clicks \", sum(impressions_c))"
   ]
  },
  {
   "cell_type": "code",
   "execution_count": 21,
   "metadata": {},
   "outputs": [
    {
     "name": "stdout",
     "output_type": "stream",
     "text": [
      "Cost for valid set  703\n"
     ]
    }
   ],
   "source": [
    "tmp = calculate_bid(bid_base, y_p_valid, avgCTR)\n",
    "tmp_2 = valid_df.payprice[valid_df.bidprice < tmp]\n",
    "print(\"Cost for valid set \", sum(tmp_2))\n"
   ]
  },
  {
   "cell_type": "code",
   "execution_count": 23,
   "metadata": {},
   "outputs": [
    {
     "name": "stdout",
     "output_type": "stream",
     "text": [
      "With budget 6250 we won  4  auctions and on  1  was clicked\n",
      "CPC is then  703.0\n"
     ]
    }
   ],
   "source": [
    "our_bids = calculate_bid(bid_base, y_p_valid, avgCTR) # calculates our bid price\n",
    "price_payed = 0\n",
    "clicked_won = 0 \n",
    "won = 0\n",
    "\n",
    "for i in range(len(our_bids)): \n",
    "    if valid_df.bidprice[i] <= our_bids[i]:\n",
    "        price_payed = price_payed + valid_df.payprice[i]\n",
    "        if (price_payed < 6250):       \n",
    "            won = won + 1\n",
    "            if (valid_df.click[i] == 1):\n",
    "                clicked_won = clicked_won + 1\n",
    "        else:\n",
    "            break\n",
    "        \n",
    "print(\"With budget 6250 we won \", won, \" auctions and on \", clicked_won, \" was clicked\" )\n",
    "print(\"CPC is then \", (price_payed/clicked_won))\n",
    "# 1st With budget 6250 we won  4  auctions and on  1  was clicked\n"
   ]
  },
  {
   "cell_type": "markdown",
   "metadata": {},
   "source": [
    "## Summary Results\n",
    "The average of probability that the ad will be clicked \n",
    "\n",
    "avgCTR = 0.000752739847911\n",
    "\n",
    "The bid_base with best CTR:  4\n",
    "\n",
    "CTR for winning bid_base is  0.25\n",
    "\n",
    "Cost for valid set  703 , \n",
    "\n",
    "CPC  703.0  \n",
    "\n",
    "impressions  4  \n",
    "\n",
    "clicks  1\n"
   ]
  },
  {
   "cell_type": "code",
   "execution_count": null,
   "metadata": {
    "collapsed": true
   },
   "outputs": [],
   "source": []
  }
 ],
 "metadata": {
  "anaconda-cloud": {},
  "kernelspec": {
   "display_name": "Python [conda root]",
   "language": "python",
   "name": "conda-root-py"
  },
  "language_info": {
   "codemirror_mode": {
    "name": "ipython",
    "version": 3
   },
   "file_extension": ".py",
   "mimetype": "text/x-python",
   "name": "python",
   "nbconvert_exporter": "python",
   "pygments_lexer": "ipython3",
   "version": "3.5.2"
  }
 },
 "nbformat": 4,
 "nbformat_minor": 1
}
