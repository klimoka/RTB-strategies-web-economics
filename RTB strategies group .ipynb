{
 "cells": [
  {
   "cell_type": "code",
   "execution_count": 1,
   "metadata": {
    "collapsed": false
   },
   "outputs": [
    {
     "name": "stderr",
     "output_type": "stream",
     "text": [
      "/usr/local/lib/python3.5/dist-packages/sklearn/cross_validation.py:44: DeprecationWarning: This module was deprecated in version 0.18 in favor of the model_selection module into which all the refactored classes and functions are moved. Also note that the interface of the new CV iterators are different from that of this module. This module will be removed in 0.20.\n",
      "  \"This module will be removed in 0.20.\", DeprecationWarning)\n"
     ]
    }
   ],
   "source": [
    "import pandas as pd\n",
    "import matplotlib.pyplot as plt\n",
    "import numpy as np\n",
    "import numpy\n",
    "import xgboost as xgb\n",
    "import statistics as st"
   ]
  },
  {
   "cell_type": "code",
   "execution_count": 2,
   "metadata": {
    "collapsed": true
   },
   "outputs": [],
   "source": [
    "train_df = pd.read_csv(\"train.csv\")"
   ]
  },
  {
   "cell_type": "code",
   "execution_count": 3,
   "metadata": {
    "collapsed": true
   },
   "outputs": [],
   "source": [
    "valid_df = pd.read_csv(\"validation.csv\")"
   ]
  },
  {
   "cell_type": "code",
   "execution_count": null,
   "metadata": {
    "collapsed": true
   },
   "outputs": [],
   "source": [
    "test_df = pd.read_csv(\"test.csv\")"
   ]
  },
  {
   "cell_type": "code",
   "execution_count": 34,
   "metadata": {
    "collapsed": true
   },
   "outputs": [],
   "source": [
    "def test_results(threshold, y_p, real_clicks):\n",
    "    # real_clicks = valid_df[\"click\"]\n",
    "    \n",
    "    clicks = y_p > threshold\n",
    "    errs = len(clicks) - sum(clicks == real_clicks)\n",
    "    num_clicks = len(valid_df[real_clicks == 1]) + sum(clicks)\n",
    "    ratio = 1-errs/num_clicks\n",
    "    clicked = (sum(clicks) - sum((clicks - valid_df.click) == 1))\n",
    "    \n",
    "    print(\"Number of predicted clicks \", sum(clicks), \" with threshold set to \", threshold)\n",
    "    print(\"Number of predictions matching original \", sum(clicks == real_clicks), \" -> \", errs, \" errors\")\n",
    "    print(\"Total num of clicks \", num_clicks, \" -> ratio \", ratio)\n",
    "    print(\"CTR \", clicked/sum(clicks), \" and clicks \", clicked)\n",
    "    \n",
    "    return clicks"
   ]
  },
  {
   "cell_type": "code",
   "execution_count": 5,
   "metadata": {
    "collapsed": true
   },
   "outputs": [],
   "source": [
    "def test_results_budget(clicks, payprice, real_clicks):\n",
    "    # payprice = valid_df.payprice\n",
    "    # real_clicks = valid_df.click\n",
    "    sum_ones = 0\n",
    "    spent = 0\n",
    "    click_total = 0\n",
    "\n",
    "    for i in range(0,len(clicks),3):\n",
    "        if (clicks[i] == 1) & (spent < 6250):\n",
    "            click_total = click_total + 1\n",
    "            spent = spent + payprice[i]\n",
    "            if real_clicks[i] == 1:\n",
    "                sum_ones = sum_ones + 1\n",
    "\n",
    "        if spent > 6250:\n",
    "            break\n",
    "\n",
    "    cpc = spent/sum_ones\n",
    "    ctr_1 = sum_ones/click_total\n",
    "    print(\"Sum payed for the clicked ones \", spent, \" successful clicks \", sum_ones, \" out of \", click_total)\n",
    "    print(\"Cost per Click \", cpc)\n",
    "    print(\"CTR \", ctr_1)"
   ]
  },
  {
   "cell_type": "code",
   "execution_count": 26,
   "metadata": {
    "collapsed": false
   },
   "outputs": [
    {
     "name": "stdout",
     "output_type": "stream",
     "text": [
      "Num of clicks  2034  out of  2697738  auctions which is  0.0753964988446 %\n",
      "Minimum payed price  0  and maximum payed price  300\n",
      "Minimum bid price  227  and maximum bid price  300\n",
      "Num of bids of each price\n"
     ]
    },
    {
     "data": {
      "text/plain": [
       "300    1038847\n",
       "294     353123\n",
       "238     350714\n",
       "227     281102\n",
       "241     225629\n",
       "277     200177\n",
       "254     130893\n",
       "249     117253\n",
       "Name: bidprice, dtype: int64"
      ]
     },
     "execution_count": 26,
     "metadata": {},
     "output_type": "execute_result"
    }
   ],
   "source": [
    "print(\"Num of clicks \", sum(train_df.click), \" out of \", len(train_df),\" auctions which is \", sum(train_df.click)*100/len(train_df), \"%\")\n",
    "print(\"Minimum payed price \", min(train_df.payprice), \" and maximum payed price \", max(train_df.payprice))\n",
    "print(\"Minimum bid price \", min(train_df.bidprice), \" and maximum bid price \", max(train_df.bidprice))\n",
    "print(\"Num of bids of each price\")\n",
    "train_df.bidprice.value_counts()"
   ]
  },
  {
   "cell_type": "code",
   "execution_count": 27,
   "metadata": {
    "collapsed": false
   },
   "outputs": [
    {
     "name": "stdout",
     "output_type": "stream",
     "text": [
      "CTR is  0.000753964988446\n",
      "CPM is  80251.0247474\n",
      "eCPC is  106438.662242\n"
     ]
    }
   ],
   "source": [
    "print(\"CTR is \" , sum(train_df.click)/len(train_df))\n",
    "print(\"CPM is \" , sum(train_df.payprice)*1000/len(train_df))\n",
    "print(\"eCPC is \" , sum(train_df.payprice)/sum(train_df.click))"
   ]
  },
  {
   "cell_type": "markdown",
   "metadata": {},
   "source": [
    "## clean data"
   ]
  },
  {
   "cell_type": "code",
   "execution_count": 6,
   "metadata": {
    "collapsed": false
   },
   "outputs": [],
   "source": [
    "for index, c in train_df.iterrows():  \n",
    "    if c.slotformat in \"Na\":\n",
    "        train_df.set_value(index, 'slotformat', 10)\n",
    "        \n",
    "d = {'1': 1, '2': 2, '3': 3 ,'4': 4, 'null': 0}\n",
    "train_df['adexchange']=train_df['adexchange'].map(d)"
   ]
  },
  {
   "cell_type": "code",
   "execution_count": null,
   "metadata": {
    "collapsed": false
   },
   "outputs": [],
   "source": [
    "for index, c in test_df.iterrows():  \n",
    "    if c.slotformat in \"Na\":\n",
    "        test_df.set_value(index, 'slotformat', 10)\n",
    "\n",
    "d = {'1': 1, '2': 2, '3': 3 ,'4': 4, 'null': 0}\n",
    "test_df['adexchange']=test_df['adexchange'].map(d)"
   ]
  },
  {
   "cell_type": "code",
   "execution_count": 7,
   "metadata": {
    "collapsed": false
   },
   "outputs": [],
   "source": [
    "for index, c in valid_df.iterrows():  \n",
    "    if c.slotformat in \"Na\":\n",
    "        valid_df.set_value(index, 'slotformat', 10)\n",
    "\n",
    "d = {'1': 1, '2': 2, '3': 3 ,'4': 4, 'null': 0}\n",
    "valid_df['adexchange']=valid_df['adexchange'].map(d)"
   ]
  },
  {
   "cell_type": "markdown",
   "metadata": {},
   "source": [
    "## Constant bidding"
   ]
  },
  {
   "cell_type": "code",
   "execution_count": 39,
   "metadata": {
    "collapsed": false
   },
   "outputs": [
    {
     "name": "stdout",
     "output_type": "stream",
     "text": [
      "[228 239 242 250 255 278 295 301]\n"
     ]
    }
   ],
   "source": [
    "const = train_df.bidprice.get_values() #[300, 294, 238, 227, 241, 277, 254, 249]\n",
    "const = np.unique(const)\n",
    "const = [c+1 for c in cost]\n",
    "#const = const_range+const_range_upper\n",
    "const = np.sort(const)\n",
    "print(const)"
   ]
  },
  {
   "cell_type": "markdown",
   "metadata": {},
   "source": [
    "doing for training set (ctr) and validation set (ctr_v)"
   ]
  },
  {
   "cell_type": "code",
   "execution_count": 44,
   "metadata": {
    "collapsed": false
   },
   "outputs": [
    {
     "name": "stdout",
     "output_type": "stream",
     "text": [
      "Price  228\n",
      "num of clicks:  276 total:  281102\n",
      "num of clicks_v:  35 total_v:  31467 \n",
      "\n",
      "Price  239\n",
      "num of clicks:  456 total:  631816\n",
      "num of clicks_v:  52 total_v:  70253 \n",
      "\n",
      "Price  242\n",
      "num of clicks:  620 total:  857445\n",
      "num of clicks_v:  74 total_v:  95351 \n",
      "\n",
      "Price  250\n",
      "num of clicks:  651 total:  974698\n",
      "num of clicks_v:  76 total_v:  108437 \n",
      "\n",
      "Price  255\n",
      "num of clicks:  748 total:  1105591\n",
      "num of clicks_v:  85 total_v:  123073 \n",
      "\n",
      "Price  278\n",
      "num of clicks:  1053 total:  1305768\n",
      "num of clicks_v:  121 total_v:  145272 \n",
      "\n",
      "Price  295\n",
      "num of clicks:  1225 total:  1658891\n",
      "num of clicks_v:  143 total_v:  184528 \n",
      "\n",
      "Price  301\n",
      "num of clicks:  2034 total:  2697738\n",
      "num of clicks_v:  226 total_v:  299749 \n",
      "\n",
      "The highest CTR for constant bidding is for  228  with CTR =  0.0981850004625 %\n",
      "The highest CTR for constant bidding  in valid. set is for  228  with CTR =  0.1112276353 %\n"
     ]
    }
   ],
   "source": [
    "ctr = np.arange(0, len(const), dtype=np.float)\n",
    "ctr_v = np.arange(0, len(const), dtype=np.float)\n",
    "i = 0\n",
    "\n",
    "for c in const:\n",
    "    filt = train_df.click[train_df.bidprice < c]\n",
    "    filt_v = valid_df.click[valid_df.bidprice < c]\n",
    "    ctr[i] = sum(filt)*100/len(filt)\n",
    "    ctr_v[i] = sum(filt_v)*100/len(filt_v)\n",
    "    print(\"Price \", c)\n",
    "    print(\"num of clicks: \", sum(filt), \"total: \", len(filt))\n",
    "    print(\"num of clicks_v: \", sum(filt_v), \"total_v: \", len(filt_v), \"\\n\")\n",
    "    i = i + 1\n",
    "    \n",
    "max_index = np.argmax(ctr)\n",
    "max_index_v = np.argmax(ctr_v)\n",
    "print(\"The highest CTR for constant bidding is for \", const[max_index], \" with CTR = \", ctr[max_index], \"%\")\n",
    "print(\"The highest CTR for constant bidding  in valid. set is for \", const[max_index_v], \" with CTR = \", ctr_v[max_index_v], \"%\")"
   ]
  },
  {
   "cell_type": "code",
   "execution_count": 45,
   "metadata": {
    "collapsed": false
   },
   "outputs": [
    {
     "name": "stdout",
     "output_type": "stream",
     "text": [
      "Sum payed for the clicked ones  6320  successful clicks  0  out of  56\n",
      "Cost per Click  inf\n",
      "CTR  0.0\n"
     ]
    }
   ],
   "source": [
    "clicks_const = valid_df.bidprice < const[max_index_v]\n",
    "test_results_budget(clicks_const, valid_df.payprice, valid_df.click)"
   ]
  },
  {
   "cell_type": "markdown",
   "metadata": {},
   "source": [
    "## Random bidding"
   ]
  },
  {
   "cell_type": "code",
   "execution_count": 46,
   "metadata": {
    "collapsed": true
   },
   "outputs": [],
   "source": [
    "# 74 is the difference\n",
    "upper = range(10, 80, 10)"
   ]
  },
  {
   "cell_type": "code",
   "execution_count": 47,
   "metadata": {
    "collapsed": false
   },
   "outputs": [
    {
     "name": "stdout",
     "output_type": "stream",
     "text": [
      "num of clicks:  276 total:  281102\n",
      "num of clicks:  408 total:  506039\n",
      "num of clicks:  477 total:  667685\n",
      "num of clicks:  563 total:  776700\n",
      "num of clicks:  611 total:  843148\n",
      "num of clicks:  674 total:  920408\n",
      "num of clicks:  735 total:  990521\n"
     ]
    }
   ],
   "source": [
    "random_bid_basics = np.random.rand(len(train_df), len(upper))\n",
    "name = [\"bid1\", \"bid2\", \"bid3\", \"bid4\", \"bid5\", \"bid6\", \"bid7\"]\n",
    "ctr_r = np.arange(0, len(upper), dtype=np.float)\n",
    "bottom = 227\n",
    "i = 0\n",
    "\n",
    "for u in upper:\n",
    "    train_df[name[i]] = random_bid_basics[:,i] * u + bottom\n",
    "   \n",
    "    \n",
    "    filt = train_df.click[train_df.bidprice < train_df[name[i]]]\n",
    "    ctr_r[i] = sum(filt)*100/len(filt)\n",
    "    print(\"num of clicks: \", sum(filt), \"total: \", len(filt))\n",
    "    \n",
    "    i = i+1"
   ]
  },
  {
   "cell_type": "code",
   "execution_count": 48,
   "metadata": {
    "collapsed": false
   },
   "outputs": [
    {
     "name": "stdout",
     "output_type": "stream",
     "text": [
      "The highest CTR for random bidding is for upper bound at  10  with CTR =  0.0981850004625 %\n"
     ]
    }
   ],
   "source": [
    "max_index = np.argmax(ctr_r)\n",
    "print(\"The highest CTR for random bidding is for upper bound at \", upper[max_index], \" with CTR = \", ctr_r[max_index], \"%\")\n"
   ]
  },
  {
   "cell_type": "code",
   "execution_count": 52,
   "metadata": {
    "collapsed": false
   },
   "outputs": [
    {
     "name": "stdout",
     "output_type": "stream",
     "text": [
      "Sum payed for the clicked ones  6320  successful clicks  0  out of  56\n",
      "Cost per Click  inf\n",
      "CTR  0.0\n"
     ]
    }
   ],
   "source": [
    "random_bid_basics = np.random.rand(len(valid_df), len(upper))\n",
    "valid_df[\"rnd_bid\"] = random_bid_basics[:,1] * u + bottom\n",
    "\n",
    "clicks_rand = valid_df.bidprice < valid_df[\"rnd_bid\"]\n",
    "test_results_budget(clicks_const, valid_df.payprice, valid_df.click)"
   ]
  },
  {
   "cell_type": "markdown",
   "metadata": {},
   "source": [
    "## Linear model"
   ]
  },
  {
   "cell_type": "code",
   "execution_count": 38,
   "metadata": {
    "collapsed": true
   },
   "outputs": [],
   "source": [
    "#Define features\n",
    "features = [\"weekday\", \"hour\", \"region\", \"city\", \"area\", \"slotprice\", \"advertiser\", \"adexchange\"]\n",
    "# Prepare X and y\n",
    "\n",
    "train_df['area'] = train_df['slotwidth']*train_df['slotheight']\n",
    "\n",
    "\n",
    "X_train = train_df[features]\n",
    "y_train = train_df['click']"
   ]
  },
  {
   "cell_type": "code",
   "execution_count": 11,
   "metadata": {
    "collapsed": false
   },
   "outputs": [
    {
     "data": {
      "text/plain": [
       "XGBRegressor(base_score=0.5, colsample_bylevel=1, colsample_bytree=1, gamma=0,\n",
       "       learning_rate=0.5, max_delta_step=0, max_depth=3,\n",
       "       min_child_weight=1, missing=None, n_estimators=100, nthread=-1,\n",
       "       objective='binary:logistic', reg_alpha=0, reg_lambda=1,\n",
       "       scale_pos_weight=1, seed=0, silent=True, subsample=1)"
      ]
     },
     "execution_count": 11,
     "metadata": {},
     "output_type": "execute_result"
    }
   ],
   "source": [
    "# Train the model to estimate pCTR\n",
    "clf = xgb.XGBRegressor(n_estimators=100, max_depth = 3, learning_rate=0.5, objective= 'binary:logistic')\n",
    "clf.fit(X_train, y_train)"
   ]
  },
  {
   "cell_type": "code",
   "execution_count": 39,
   "metadata": {
    "collapsed": false
   },
   "outputs": [],
   "source": [
    "# preprocess validation set\n",
    "valid_df['area'] = valid_df['slotwidth']*valid_df['slotheight']\n",
    "\n",
    "X_valid = valid_df[features]\n",
    "\n",
    "#X_valid['advertiser']=X_valid['advertiser'].astype(str)\n",
    "#X_valid['adexchange']=X_valid['adexchange'].astype(str)\n",
    "\n",
    "#X_valid = X_valid.astype(\"int\")\n"
   ]
  },
  {
   "cell_type": "code",
   "execution_count": null,
   "metadata": {
    "collapsed": false
   },
   "outputs": [],
   "source": [
    "## predicts probabilities of being clicked for validation\n",
    "y_p_valid = clf.predict(X_valid)"
   ]
  },
  {
   "cell_type": "markdown",
   "metadata": {},
   "source": [
    "avgCTR is the average of probability that the ad will be clicked"
   ]
  },
  {
   "cell_type": "code",
   "execution_count": null,
   "metadata": {
    "collapsed": false
   },
   "outputs": [],
   "source": [
    "avgCTR = sum(y_p_valid)/len(y_p_valid)\n",
    "print(\"Average CTR \", avgCTR)"
   ]
  },
  {
   "cell_type": "code",
   "execution_count": null,
   "metadata": {
    "collapsed": false
   },
   "outputs": [],
   "source": [
    "def calculate_bid(base_bid, y_pred, avgCTR):\n",
    "    bid = np.multiply(y_pred, base_bid/avgCTR)\n",
    "    return bid"
   ]
  },
  {
   "cell_type": "code",
   "execution_count": null,
   "metadata": {
    "collapsed": true
   },
   "outputs": [],
   "source": [
    "def max_bid_base(prices, y_p_valid, avgCTR):\n",
    "    ration = np.zeros(len(prices))\n",
    "    total = len(valid_df)\n",
    "\n",
    "    for i in range(len(prices)):\n",
    "        tmp = calculate_bid(prices[i], y_p_valid, avgCTR) # calculates our bid price\n",
    "        tmp_2 = valid_df.click[valid_df.bidprice < tmp] # stores 0/1 for those auctions we won\n",
    "        if len(tmp_2) == 0:\n",
    "            ration[i] = 0\n",
    "        else:\n",
    "            ration[i] = sum(tmp_2)/len(tmp_2) # clicked/won actions\n",
    "\n",
    "    print(\"The bid_base with best CTR: \", prices[ration.argmax()])\n",
    "    print(\"CTR for winning bid_base is \", ration.max())\n",
    "    return prices[ration.argmax()]"
   ]
  },
  {
   "cell_type": "code",
   "execution_count": null,
   "metadata": {
    "collapsed": false
   },
   "outputs": [],
   "source": [
    "prices = range(1, 450, 1)\n",
    "\n",
    "bid_base = max_bid_base(prices, y_p_valid, avgCTR)"
   ]
  },
  {
   "cell_type": "code",
   "execution_count": null,
   "metadata": {
    "collapsed": false,
    "scrolled": true
   },
   "outputs": [],
   "source": [
    "tmp = calculate_bid(bid_base, y_p_valid, avgCTR)\n",
    "tmp_2 = valid_df.payprice[valid_df.bidprice < tmp]\n",
    "\n",
    "print(\"Cost for valid set \", sum(tmp_2))"
   ]
  },
  {
   "cell_type": "code",
   "execution_count": null,
   "metadata": {
    "collapsed": false
   },
   "outputs": [],
   "source": [
    "our_bids = calculate_bid(bid_base, y_p_valid, avgCTR) # calculates our bid price\n",
    "price_payed = 0\n",
    "clicked_won = 0 \n",
    "won = 0\n",
    "\n",
    "for i in range(len(our_bids)): \n",
    "    if (valid_df.bidprice[i] <= our_bids[i]):\n",
    "        price_payed = price_payed + valid_df.payprice[i]\n",
    "        if (price_payed < 6250):       \n",
    "            won = won + 1\n",
    "            if (valid_df.click[i] == 1):\n",
    "                clicked_won = clicked_won + 1\n",
    "        else:\n",
    "            break\n",
    "        \n",
    "print(\"With budget 6250 we won \", won, \" auctions and on \", clicked_won, \" was clicked\" )"
   ]
  },
  {
   "cell_type": "markdown",
   "metadata": {},
   "source": [
    "## Best performing model"
   ]
  },
  {
   "cell_type": "markdown",
   "metadata": {},
   "source": [
    "### prediction with hour and weekday separated"
   ]
  },
  {
   "cell_type": "code",
   "execution_count": 9,
   "metadata": {
    "collapsed": false
   },
   "outputs": [
    {
     "data": {
      "text/plain": [
       "XGBRegressor(base_score=0.5, colsample_bylevel=1, colsample_bytree=1, gamma=0,\n",
       "       learning_rate=0.5, max_delta_step=0, max_depth=3,\n",
       "       min_child_weight=1, missing=None, n_estimators=100, nthread=-1,\n",
       "       objective='reg:linear', reg_alpha=0, reg_lambda=1,\n",
       "       scale_pos_weight=1, seed=0, silent=True, subsample=1)"
      ]
     },
     "execution_count": 9,
     "metadata": {},
     "output_type": "execute_result"
    }
   ],
   "source": [
    "# Train the model to estimate pCTR\n",
    "clf_0 = xgb.XGBRegressor(n_estimators=100, max_depth = 3, learning_rate=0.5)\n",
    "clf_0.fit(X_train, y_train)"
   ]
  },
  {
   "cell_type": "code",
   "execution_count": 13,
   "metadata": {
    "collapsed": false
   },
   "outputs": [],
   "source": [
    "## predicts probabilities of being clicked for validation\n",
    "y_p_valid_0 = clf_0.predict(X_valid)"
   ]
  },
  {
   "cell_type": "markdown",
   "metadata": {},
   "source": [
    "threshold = 0.01\n",
    "clicks = y_p_valid_1 > threshold\n",
    "errs = len(clicks) - sum(clicks == valid_df['click'])\n",
    "num_clicks = len(valid_df[valid_df.click == 1]) + sum(clicks)\n",
    "ratio = 1-errs/num_clicks\n",
    "print(\"Number of predicted clicks \", sum(clicks), \" with threshold set to \", threshold)\n",
    "print(\"Number of predictions matching original \", sum(clicks == valid_df['click']), \" -> \", errs, \" errors\")\n",
    "print(\"Total num of clicks \", num_clicks, \" -> ratio \", ratio)"
   ]
  },
  {
   "cell_type": "code",
   "execution_count": 14,
   "metadata": {
    "collapsed": false
   },
   "outputs": [
    {
     "name": "stdout",
     "output_type": "stream",
     "text": [
      "Number of predicted clicks  617  with threshold set to  0.01\n",
      "Number of predictions matching original  298918  ->  831  errors\n",
      "Total num of clicks  843  -> ratio  0.0142348754448\n"
     ]
    }
   ],
   "source": [
    "threshold_0 = 0.01\n",
    "\n",
    "clicks_0 = test_results(threshold_0, y_p_valid_0, valid_df[\"click\"])"
   ]
  },
  {
   "cell_type": "code",
   "execution_count": 26,
   "metadata": {
    "collapsed": false
   },
   "outputs": [
    {
     "name": "stdout",
     "output_type": "stream",
     "text": [
      "Sum payed for the clicked ones  6269  successful clicks  1  out of  73\n",
      "Cost per Click  6269.0\n",
      "CTR  0.0136986301369863\n"
     ]
    }
   ],
   "source": [
    "test_results_budget(clicks_0, valid_df.payprice, valid_df.click)"
   ]
  },
  {
   "cell_type": "markdown",
   "metadata": {},
   "source": [
    "### prediction for weekday, hour and weekday+hour"
   ]
  },
  {
   "cell_type": "code",
   "execution_count": 40,
   "metadata": {
    "collapsed": false,
    "scrolled": true
   },
   "outputs": [
    {
     "name": "stderr",
     "output_type": "stream",
     "text": [
      "/usr/local/lib/python3.5/dist-packages/ipykernel/__main__.py:2: SettingWithCopyWarning: \n",
      "A value is trying to be set on a copy of a slice from a DataFrame.\n",
      "Try using .loc[row_indexer,col_indexer] = value instead\n",
      "\n",
      "See the caveats in the documentation: http://pandas.pydata.org/pandas-docs/stable/indexing.html#indexing-view-versus-copy\n",
      "  from ipykernel import kernelapp as app\n",
      "/usr/local/lib/python3.5/dist-packages/ipykernel/__main__.py:3: SettingWithCopyWarning: \n",
      "A value is trying to be set on a copy of a slice from a DataFrame.\n",
      "Try using .loc[row_indexer,col_indexer] = value instead\n",
      "\n",
      "See the caveats in the documentation: http://pandas.pydata.org/pandas-docs/stable/indexing.html#indexing-view-versus-copy\n",
      "  app.launch_new_instance()\n",
      "/usr/local/lib/python3.5/dist-packages/ipykernel/__main__.py:5: SettingWithCopyWarning: \n",
      "A value is trying to be set on a copy of a slice from a DataFrame.\n",
      "Try using .loc[row_indexer,col_indexer] = value instead\n",
      "\n",
      "See the caveats in the documentation: http://pandas.pydata.org/pandas-docs/stable/indexing.html#indexing-view-versus-copy\n"
     ]
    }
   ],
   "source": [
    "# encoding weekday and hour into one variable\n",
    "X_train['weekday']=X_train['weekday'].astype(str)\n",
    "X_train['hour']=X_train['hour'].astype(str)\n",
    "\n",
    "X_train['time'] = X_train[['weekday', 'hour']].apply(lambda x: ''.join(x), axis=1)\n",
    "\n",
    "X_train = X_train.astype(\"int\")\n",
    "\n",
    "#X_train = X_train.drop([\"hour\", \"weekday\"], axis=1)"
   ]
  },
  {
   "cell_type": "code",
   "execution_count": 41,
   "metadata": {
    "collapsed": false,
    "scrolled": true
   },
   "outputs": [
    {
     "name": "stderr",
     "output_type": "stream",
     "text": [
      "/usr/local/lib/python3.5/dist-packages/ipykernel/__main__.py:2: SettingWithCopyWarning: \n",
      "A value is trying to be set on a copy of a slice from a DataFrame.\n",
      "Try using .loc[row_indexer,col_indexer] = value instead\n",
      "\n",
      "See the caveats in the documentation: http://pandas.pydata.org/pandas-docs/stable/indexing.html#indexing-view-versus-copy\n",
      "  from ipykernel import kernelapp as app\n",
      "/usr/local/lib/python3.5/dist-packages/ipykernel/__main__.py:3: SettingWithCopyWarning: \n",
      "A value is trying to be set on a copy of a slice from a DataFrame.\n",
      "Try using .loc[row_indexer,col_indexer] = value instead\n",
      "\n",
      "See the caveats in the documentation: http://pandas.pydata.org/pandas-docs/stable/indexing.html#indexing-view-versus-copy\n",
      "  app.launch_new_instance()\n",
      "/usr/local/lib/python3.5/dist-packages/ipykernel/__main__.py:5: SettingWithCopyWarning: \n",
      "A value is trying to be set on a copy of a slice from a DataFrame.\n",
      "Try using .loc[row_indexer,col_indexer] = value instead\n",
      "\n",
      "See the caveats in the documentation: http://pandas.pydata.org/pandas-docs/stable/indexing.html#indexing-view-versus-copy\n"
     ]
    }
   ],
   "source": [
    "# encoding weekday and hour into one variable\n",
    "X_valid['weekday']=X_valid['weekday'].astype(str)\n",
    "X_valid['hour']=X_valid['hour'].astype(str)\n",
    "\n",
    "X_valid['time'] = X_valid[['weekday', 'hour']].apply(lambda x: ''.join(x), axis=1)\n",
    "\n",
    "X_valid = X_valid.astype(\"int\")\n",
    "\n",
    "#X_valid = X_valid.drop([\"hour\", \"weekday\"], axis=1)"
   ]
  },
  {
   "cell_type": "code",
   "execution_count": 42,
   "metadata": {
    "collapsed": false
   },
   "outputs": [
    {
     "data": {
      "text/plain": [
       "XGBRegressor(base_score=0.5, colsample_bylevel=1, colsample_bytree=1, gamma=0,\n",
       "       learning_rate=0.5, max_delta_step=0, max_depth=3,\n",
       "       min_child_weight=1, missing=None, n_estimators=100, nthread=-1,\n",
       "       objective='reg:linear', reg_alpha=0, reg_lambda=1,\n",
       "       scale_pos_weight=1, seed=0, silent=True, subsample=1)"
      ]
     },
     "execution_count": 42,
     "metadata": {},
     "output_type": "execute_result"
    }
   ],
   "source": [
    "# Train the model to estimate pCTR\n",
    "clf_1 = xgb.XGBRegressor(n_estimators=100, max_depth = 3, learning_rate=0.5)\n",
    "clf_1.fit(X_train, y_train)"
   ]
  },
  {
   "cell_type": "code",
   "execution_count": 43,
   "metadata": {
    "collapsed": false
   },
   "outputs": [],
   "source": [
    "## predicts probabilities of being clicked for validation\n",
    "y_p_valid_1 = clf_1.predict(X_valid)"
   ]
  },
  {
   "cell_type": "code",
   "execution_count": 44,
   "metadata": {
    "collapsed": false
   },
   "outputs": [
    {
     "name": "stdout",
     "output_type": "stream",
     "text": [
      "Number of predicted clicks  426  with threshold set to  0.01\n",
      "Number of predictions matching original  299107  ->  642  errors\n",
      "Total num of clicks  652  -> ratio  0.0153374233129\n",
      "CTR  0.0117370892019  and clicks  5\n"
     ]
    }
   ],
   "source": [
    "threshold_1 = 0.01\n",
    "\n",
    "clicks_1 = test_results(threshold_1, y_p_valid_1, valid_df[\"click\"])"
   ]
  },
  {
   "cell_type": "code",
   "execution_count": 45,
   "metadata": {
    "collapsed": false
   },
   "outputs": [
    {
     "name": "stdout",
     "output_type": "stream",
     "text": [
      "Sum payed for the clicked ones  6412  successful clicks  3  out of  67\n",
      "Cost per Click  2137.33333333\n",
      "CTR  0.04477611940298507\n"
     ]
    }
   ],
   "source": [
    "test_results_budget(clicks_1, valid_df.payprice, valid_df.click)"
   ]
  },
  {
   "cell_type": "markdown",
   "metadata": {},
   "source": [
    "## XGBoost chosen atributes"
   ]
  },
  {
   "cell_type": "code",
   "execution_count": 16,
   "metadata": {
    "collapsed": false
   },
   "outputs": [
    {
     "name": "stderr",
     "output_type": "stream",
     "text": [
      "/usr/local/lib/python3.5/dist-packages/ipykernel/__main__.py:9: SettingWithCopyWarning: \n",
      "A value is trying to be set on a copy of a slice from a DataFrame.\n",
      "Try using .loc[row_indexer,col_indexer] = value instead\n",
      "\n",
      "See the caveats in the documentation: http://pandas.pydata.org/pandas-docs/stable/indexing.html#indexing-view-versus-copy\n",
      "/usr/local/lib/python3.5/dist-packages/ipykernel/__main__.py:10: SettingWithCopyWarning: \n",
      "A value is trying to be set on a copy of a slice from a DataFrame.\n",
      "Try using .loc[row_indexer,col_indexer] = value instead\n",
      "\n",
      "See the caveats in the documentation: http://pandas.pydata.org/pandas-docs/stable/indexing.html#indexing-view-versus-copy\n",
      "/usr/local/lib/python3.5/dist-packages/ipykernel/__main__.py:12: SettingWithCopyWarning: \n",
      "A value is trying to be set on a copy of a slice from a DataFrame.\n",
      "Try using .loc[row_indexer,col_indexer] = value instead\n",
      "\n",
      "See the caveats in the documentation: http://pandas.pydata.org/pandas-docs/stable/indexing.html#indexing-view-versus-copy\n"
     ]
    }
   ],
   "source": [
    "#Define features\n",
    "features_a = [\"weekday\", \"hour\", \"region\", \"city\", \"area\", \"slotprice\", \"advertiser\"]\n",
    "# Prepare X and y\n",
    "\n",
    "train_df['area'] = train_df['slotwidth']*train_df['slotheight']\n",
    "\n",
    "X_train_a = train_df[features_a]              \n",
    "              \n",
    "X_train_a['weekday']=X_train_a['weekday'].astype(str)\n",
    "X_train_a['hour']=X_train_a['hour'].astype(str)\n",
    "\n",
    "X_train_a['time'] = X_train_a[['weekday', 'hour']].apply(lambda x: ''.join(x), axis=1)\n",
    "\n",
    "X_train_a = X_train_a.astype(\"int\")\n",
    "X_train_a = X_train_a.drop([\"hour\", \"weekday\"], axis=1)\n",
    "\n",
    "y_train_a = train_df['click']"
   ]
  },
  {
   "cell_type": "code",
   "execution_count": 17,
   "metadata": {
    "collapsed": false
   },
   "outputs": [
    {
     "data": {
      "text/plain": [
       "XGBRegressor(base_score=0.5, colsample_bylevel=1, colsample_bytree=1, gamma=0,\n",
       "       learning_rate=0.5, max_delta_step=0, max_depth=3,\n",
       "       min_child_weight=1, missing=None, n_estimators=100, nthread=-1,\n",
       "       objective='reg:linear', reg_alpha=0, reg_lambda=1,\n",
       "       scale_pos_weight=1, seed=0, silent=True, subsample=1)"
      ]
     },
     "execution_count": 17,
     "metadata": {},
     "output_type": "execute_result"
    }
   ],
   "source": [
    "clf_a = xgb.XGBRegressor(n_estimators=100, max_depth = 3, learning_rate=0.5)\n",
    "clf_a.fit(X_train_a, y_train_a)"
   ]
  },
  {
   "cell_type": "code",
   "execution_count": 18,
   "metadata": {
    "collapsed": false
   },
   "outputs": [
    {
     "name": "stderr",
     "output_type": "stream",
     "text": [
      "/usr/local/lib/python3.5/dist-packages/ipykernel/__main__.py:5: SettingWithCopyWarning: \n",
      "A value is trying to be set on a copy of a slice from a DataFrame.\n",
      "Try using .loc[row_indexer,col_indexer] = value instead\n",
      "\n",
      "See the caveats in the documentation: http://pandas.pydata.org/pandas-docs/stable/indexing.html#indexing-view-versus-copy\n",
      "/usr/local/lib/python3.5/dist-packages/ipykernel/__main__.py:6: SettingWithCopyWarning: \n",
      "A value is trying to be set on a copy of a slice from a DataFrame.\n",
      "Try using .loc[row_indexer,col_indexer] = value instead\n",
      "\n",
      "See the caveats in the documentation: http://pandas.pydata.org/pandas-docs/stable/indexing.html#indexing-view-versus-copy\n",
      "/usr/local/lib/python3.5/dist-packages/ipykernel/__main__.py:8: SettingWithCopyWarning: \n",
      "A value is trying to be set on a copy of a slice from a DataFrame.\n",
      "Try using .loc[row_indexer,col_indexer] = value instead\n",
      "\n",
      "See the caveats in the documentation: http://pandas.pydata.org/pandas-docs/stable/indexing.html#indexing-view-versus-copy\n"
     ]
    }
   ],
   "source": [
    "valid_df['area'] = valid_df['slotwidth']*valid_df['slotheight']\n",
    "\n",
    "X_valid_a = valid_df[features_a]              \n",
    "              \n",
    "X_valid_a['weekday']=X_valid_a['weekday'].astype(str)\n",
    "X_valid_a['hour']=X_valid_a['hour'].astype(str)\n",
    "\n",
    "X_valid_a['time'] = X_valid_a[['weekday', 'hour']].apply(lambda x: ''.join(x), axis=1)\n",
    "\n",
    "X_valid_a = X_valid_a.astype(\"int\")\n",
    "X_valid_a = X_valid_a.drop([\"hour\", \"weekday\"], axis=1)\n"
   ]
  },
  {
   "cell_type": "code",
   "execution_count": 19,
   "metadata": {
    "collapsed": true
   },
   "outputs": [],
   "source": [
    "y_p_valid_a = clf_a.predict(X_valid_a)"
   ]
  },
  {
   "cell_type": "code",
   "execution_count": 46,
   "metadata": {
    "collapsed": false
   },
   "outputs": [
    {
     "name": "stdout",
     "output_type": "stream",
     "text": [
      "Number of predicted clicks  528  with threshold set to  0.01\n",
      "Number of predictions matching original  298999  ->  750  errors\n",
      "Total num of clicks  754  -> ratio  0.0053050397878\n",
      "CTR  0.00378787878788  and clicks  2\n"
     ]
    }
   ],
   "source": [
    "clicks = test_results(0.01, y_p_valid_a, valid_df.click)"
   ]
  },
  {
   "cell_type": "code",
   "execution_count": 47,
   "metadata": {
    "collapsed": false
   },
   "outputs": [
    {
     "name": "stdout",
     "output_type": "stream",
     "text": [
      "Sum payed for the clicked ones  6311  successful clicks  1  out of  70\n",
      "Cost per Click  6311.0\n",
      "CTR  0.014285714285714285\n"
     ]
    }
   ],
   "source": [
    "test_results_budget(clicks, valid_df.payprice, valid_df.click)"
   ]
  },
  {
   "cell_type": "markdown",
   "metadata": {},
   "source": [
    "## Undersampling"
   ]
  },
  {
   "cell_type": "code",
   "execution_count": 12,
   "metadata": {
    "collapsed": false
   },
   "outputs": [
    {
     "name": "stdout",
     "output_type": "stream",
     "text": [
      "Percentage of 1s in dataset train  0.0753964988446\n"
     ]
    }
   ],
   "source": [
    "ratio_1_0 = sum(train_df.click)/len(train_df)\n",
    "print(\"Percentage of 1s in dataset train \", ratio_1_0*100)\n",
    "subset = train_df.sample(frac=0.001)\n",
    "subset = pd.concat([subset, train_df[train_df.click == 1]])"
   ]
  },
  {
   "cell_type": "code",
   "execution_count": 13,
   "metadata": {
    "collapsed": false
   },
   "outputs": [
    {
     "name": "stderr",
     "output_type": "stream",
     "text": [
      "/usr/local/lib/python3.5/dist-packages/ipykernel/__main__.py:10: SettingWithCopyWarning: \n",
      "A value is trying to be set on a copy of a slice from a DataFrame.\n",
      "Try using .loc[row_indexer,col_indexer] = value instead\n",
      "\n",
      "See the caveats in the documentation: http://pandas.pydata.org/pandas-docs/stable/indexing.html#indexing-view-versus-copy\n",
      "/usr/local/lib/python3.5/dist-packages/ipykernel/__main__.py:11: SettingWithCopyWarning: \n",
      "A value is trying to be set on a copy of a slice from a DataFrame.\n",
      "Try using .loc[row_indexer,col_indexer] = value instead\n",
      "\n",
      "See the caveats in the documentation: http://pandas.pydata.org/pandas-docs/stable/indexing.html#indexing-view-versus-copy\n",
      "/usr/local/lib/python3.5/dist-packages/ipykernel/__main__.py:13: SettingWithCopyWarning: \n",
      "A value is trying to be set on a copy of a slice from a DataFrame.\n",
      "Try using .loc[row_indexer,col_indexer] = value instead\n",
      "\n",
      "See the caveats in the documentation: http://pandas.pydata.org/pandas-docs/stable/indexing.html#indexing-view-versus-copy\n"
     ]
    }
   ],
   "source": [
    "#Define features\n",
    "features = [\"weekday\", \"hour\", \"region\", \"city\", \"area\", \"slotprice\", \"advertiser\", \"adexchange\"]\n",
    "# Prepare X and y\n",
    "\n",
    "\n",
    "X_train_us = subset[features]\n",
    "y_train_us = subset['click']\n",
    "\n",
    "# encoding weekday and hour into one variable\n",
    "X_train_us['weekday']=X_train_us['weekday'].astype(str)\n",
    "X_train_us['hour']=X_train_us['hour'].astype(str)\n",
    "\n",
    "X_train_us['time'] = X_train_us[['weekday', 'hour']].apply(lambda x: ''.join(x), axis=1)\n",
    "\n",
    "X_train_us = X_train_us.astype(\"int\")"
   ]
  },
  {
   "cell_type": "code",
   "execution_count": 42,
   "metadata": {
    "collapsed": false
   },
   "outputs": [
    {
     "data": {
      "text/plain": [
       "XGBRegressor(base_score=0.5, colsample_bylevel=1, colsample_bytree=1, gamma=0,\n",
       "       learning_rate=0.5, max_delta_step=0, max_depth=3,\n",
       "       min_child_weight=1, missing=None, n_estimators=100, nthread=-1,\n",
       "       objective='reg:linear', reg_alpha=0, reg_lambda=1,\n",
       "       scale_pos_weight=1, seed=0, silent=True, subsample=1)"
      ]
     },
     "execution_count": 42,
     "metadata": {},
     "output_type": "execute_result"
    }
   ],
   "source": [
    "clf_us = xgb.XGBRegressor(n_estimators=100, max_depth = 3, learning_rate=0.5)\n",
    "clf_us.fit(X_train_us, y_train_us)"
   ]
  },
  {
   "cell_type": "code",
   "execution_count": 14,
   "metadata": {
    "collapsed": false
   },
   "outputs": [
    {
     "name": "stderr",
     "output_type": "stream",
     "text": [
      "/usr/local/lib/python3.5/dist-packages/ipykernel/__main__.py:4: SettingWithCopyWarning: \n",
      "A value is trying to be set on a copy of a slice from a DataFrame.\n",
      "Try using .loc[row_indexer,col_indexer] = value instead\n",
      "\n",
      "See the caveats in the documentation: http://pandas.pydata.org/pandas-docs/stable/indexing.html#indexing-view-versus-copy\n",
      "/usr/local/lib/python3.5/dist-packages/ipykernel/__main__.py:5: SettingWithCopyWarning: \n",
      "A value is trying to be set on a copy of a slice from a DataFrame.\n",
      "Try using .loc[row_indexer,col_indexer] = value instead\n",
      "\n",
      "See the caveats in the documentation: http://pandas.pydata.org/pandas-docs/stable/indexing.html#indexing-view-versus-copy\n",
      "/usr/local/lib/python3.5/dist-packages/ipykernel/__main__.py:7: SettingWithCopyWarning: \n",
      "A value is trying to be set on a copy of a slice from a DataFrame.\n",
      "Try using .loc[row_indexer,col_indexer] = value instead\n",
      "\n",
      "See the caveats in the documentation: http://pandas.pydata.org/pandas-docs/stable/indexing.html#indexing-view-versus-copy\n"
     ]
    }
   ],
   "source": [
    "X_valid_us = valid_df[features]\n",
    "\n",
    "# encoding weekday and hour into one variable\n",
    "X_valid_us['weekday']=X_valid_us['weekday'].astype(str)\n",
    "X_valid_us['hour']=X_valid_us['hour'].astype(str)\n",
    "\n",
    "X_valid_us['time'] = X_valid_us[['weekday', 'hour']].apply(lambda x: ''.join(x), axis=1)\n",
    "\n",
    "X_valid_us = X_valid_us.astype(\"int\")"
   ]
  },
  {
   "cell_type": "code",
   "execution_count": 43,
   "metadata": {
    "collapsed": true
   },
   "outputs": [],
   "source": [
    "y_predict_us = clf_1.predict(X_valid_us)"
   ]
  },
  {
   "cell_type": "code",
   "execution_count": 44,
   "metadata": {
    "collapsed": false
   },
   "outputs": [
    {
     "name": "stdout",
     "output_type": "stream",
     "text": [
      "Number of predicted clicks  426  with threshold set to  0.01\n",
      "Number of predictions matching original  299107  ->  642  errors\n",
      "Total num of clicks  652  -> ratio  0.0153374233129\n"
     ]
    }
   ],
   "source": [
    "threshold_us = 0.01\n",
    "\n",
    "clicks_us = test_results(threshold_us, y_predict_us, valid_df[\"click\"])"
   ]
  },
  {
   "cell_type": "code",
   "execution_count": 45,
   "metadata": {
    "collapsed": false
   },
   "outputs": [
    {
     "name": "stdout",
     "output_type": "stream",
     "text": [
      "Sum payed for the clicked ones  6412  successful clicks  3  out of  67\n",
      "Cost per Click  2137.33333333\n",
      "CTR  0.04477611940298507\n"
     ]
    }
   ],
   "source": [
    "test_results_budget(clicks_us, valid_df.payprice, valid_df.click)"
   ]
  },
  {
   "cell_type": "markdown",
   "metadata": {},
   "source": [
    "## Undersampled RF"
   ]
  },
  {
   "cell_type": "code",
   "execution_count": 6,
   "metadata": {
    "collapsed": true
   },
   "outputs": [],
   "source": [
    "from sklearn.ensemble import RandomForestClassifier\n",
    "from sklearn import preprocessing\n",
    "import random"
   ]
  },
  {
   "cell_type": "code",
   "execution_count": 7,
   "metadata": {
    "collapsed": true
   },
   "outputs": [],
   "source": [
    "# Set the random seed\n",
    "np.random.seed(12)\n",
    "\n",
    "# Initialize label encoder\n",
    "label_encoder = preprocessing.LabelEncoder()\n",
    "\n",
    "random_forest = RandomForestClassifier(n_estimators=1000, max_features=2, oob_score=True)"
   ]
  },
  {
   "cell_type": "code",
   "execution_count": 8,
   "metadata": {
    "collapsed": false
   },
   "outputs": [
    {
     "ename": "NameError",
     "evalue": "name 'X_train_us' is not defined",
     "output_type": "error",
     "traceback": [
      "\u001b[0;31m---------------------------------------------------------------------------\u001b[0m",
      "\u001b[0;31mNameError\u001b[0m                                 Traceback (most recent call last)",
      "\u001b[0;32m<ipython-input-8-6da07fa553d0>\u001b[0m in \u001b[0;36m<module>\u001b[0;34m()\u001b[0m\n\u001b[0;32m----> 1\u001b[0;31m \u001b[0mrandom_forest\u001b[0m\u001b[0;34m.\u001b[0m\u001b[0mfit\u001b[0m\u001b[0;34m(\u001b[0m\u001b[0mX\u001b[0m\u001b[0;34m=\u001b[0m\u001b[0mX_train_us\u001b[0m\u001b[0;34m,\u001b[0m \u001b[0my\u001b[0m\u001b[0;34m=\u001b[0m\u001b[0my_train_us\u001b[0m\u001b[0;34m)\u001b[0m\u001b[0;34m\u001b[0m\u001b[0m\n\u001b[0m",
      "\u001b[0;31mNameError\u001b[0m: name 'X_train_us' is not defined"
     ]
    }
   ],
   "source": [
    "random_forest.fit(X=X_train_us, y=y_train_us)"
   ]
  },
  {
   "cell_type": "code",
   "execution_count": 18,
   "metadata": {
    "collapsed": true
   },
   "outputs": [],
   "source": [
    "y_rf = random_forest.predict(X_valid_us)"
   ]
  },
  {
   "cell_type": "code",
   "execution_count": 20,
   "metadata": {
    "collapsed": false
   },
   "outputs": [
    {
     "name": "stdout",
     "output_type": "stream",
     "text": [
      "Number of predicted clicks  80124  with threshold set to  0.5\n",
      "Number of predictions matching original  219587  ->  80162  errors\n",
      "Total num of clicks  80350  -> ratio  0.00233976353454\n"
     ]
    }
   ],
   "source": [
    "clicks_rf = test_results(0.5, y_rf, valid_df.click)"
   ]
  },
  {
   "cell_type": "code",
   "execution_count": 21,
   "metadata": {
    "collapsed": false
   },
   "outputs": [
    {
     "name": "stdout",
     "output_type": "stream",
     "text": [
      "Sum payed for the clicked ones  6324  successful clicks  0  out of  63\n",
      "Cost per Click  inf\n",
      "CTR  0.0\n"
     ]
    }
   ],
   "source": [
    "test_results_budget(clicks_rf, valid_df.payprice, valid_df.click)"
   ]
  },
  {
   "cell_type": "markdown",
   "metadata": {},
   "source": [
    "### Predicting payprice"
   ]
  },
  {
   "cell_type": "code",
   "execution_count": 22,
   "metadata": {
    "collapsed": true
   },
   "outputs": [],
   "source": [
    "#Define features\n",
    "\n",
    "X_train_pp = pd.concat([X_train, train_df[\"click\"]], axis=1)\n",
    "y_train_pp = train_df['payprice']\n",
    "\n",
    "X_valid_pp = pd.concat([X_valid, valid_df[\"click\"]], axis=1)"
   ]
  },
  {
   "cell_type": "code",
   "execution_count": 23,
   "metadata": {
    "collapsed": false
   },
   "outputs": [
    {
     "data": {
      "text/plain": [
       "XGBRegressor(base_score=0.5, colsample_bylevel=1, colsample_bytree=1, gamma=0,\n",
       "       learning_rate=0.5, max_delta_step=0, max_depth=3,\n",
       "       min_child_weight=1, missing=None, n_estimators=100, nthread=-1,\n",
       "       objective='reg:linear', reg_alpha=0, reg_lambda=1,\n",
       "       scale_pos_weight=1, seed=0, silent=True, subsample=1)"
      ]
     },
     "execution_count": 23,
     "metadata": {},
     "output_type": "execute_result"
    }
   ],
   "source": [
    "# Train the model to estimate pCTR\n",
    "clf_pp = xgb.XGBRegressor(n_estimators=100, max_depth = 3, learning_rate=0.5, objective= 'reg:linear')\n",
    "clf_pp.fit(X_train_pp, y_train_pp)"
   ]
  },
  {
   "cell_type": "code",
   "execution_count": 24,
   "metadata": {
    "collapsed": true
   },
   "outputs": [],
   "source": [
    "y_pp = clf_pp.predict(X_valid_pp)"
   ]
  },
  {
   "cell_type": "code",
   "execution_count": 53,
   "metadata": {
    "collapsed": false
   },
   "outputs": [
    {
     "ename": "NameError",
     "evalue": "name 'clicks_1' is not defined",
     "output_type": "error",
     "traceback": [
      "\u001b[0;31m---------------------------------------------------------------------------\u001b[0m",
      "\u001b[0;31mNameError\u001b[0m                                 Traceback (most recent call last)",
      "\u001b[0;32m<ipython-input-53-8dc0fb71e731>\u001b[0m in \u001b[0;36m<module>\u001b[0;34m()\u001b[0m\n\u001b[1;32m      1\u001b[0m \u001b[0mvalid_pp\u001b[0m \u001b[0;34m=\u001b[0m \u001b[0mvalid_df\u001b[0m\u001b[0;34m\u001b[0m\u001b[0m\n\u001b[1;32m      2\u001b[0m \u001b[0mvalid_pp\u001b[0m\u001b[0;34m[\u001b[0m\u001b[0;34m\"predicted_pp\"\u001b[0m\u001b[0;34m]\u001b[0m \u001b[0;34m=\u001b[0m \u001b[0my_pp\u001b[0m\u001b[0;34m\u001b[0m\u001b[0m\n\u001b[0;32m----> 3\u001b[0;31m \u001b[0mvalid_pp\u001b[0m\u001b[0;34m[\u001b[0m\u001b[0;34m\"predicted_click\"\u001b[0m\u001b[0;34m]\u001b[0m \u001b[0;34m=\u001b[0m \u001b[0mclicks_1\u001b[0m\u001b[0;34m\u001b[0m\u001b[0m\n\u001b[0m",
      "\u001b[0;31mNameError\u001b[0m: name 'clicks_1' is not defined"
     ]
    }
   ],
   "source": [
    "valid_pp = valid_df\n",
    "valid_pp[\"predicted_pp\"] = y_pp\n",
    "valid_pp[\"predicted_click\"] = clicks_1"
   ]
  },
  {
   "cell_type": "code",
   "execution_count": null,
   "metadata": {
    "collapsed": false,
    "scrolled": true
   },
   "outputs": [],
   "source": [
    "valid_pp_sorted = valid_pp.sort_values(\"predicted pp\")"
   ]
  },
  {
   "cell_type": "code",
   "execution_count": null,
   "metadata": {
    "collapsed": false
   },
   "outputs": [],
   "source": [
    "sum_ones = 0\n",
    "spent = 0\n",
    "click_total = 0\n",
    "\n",
    "for index, i in valid_pp_sorted.iterrows():\n",
    "    if (valid_pp_sorted.predicted_click[index] == 1) & (spent < 6250) & (valid_pp_sorted.predicted_pp[index] > 54):\n",
    "        click_total = click_total + 1\n",
    "        spent = spent + valid_pp_sorted.payprice[index]\n",
    "        if valid_pp_sorted.click[index] == 1:\n",
    "            sum_ones = sum_ones + 1\n",
    "\n",
    "    if spent > 6250:\n",
    "        break\n",
    "        \n",
    "cpc = spent/sum_ones\n",
    "ctr_1 = sum_ones/click_total\n",
    "print(\"Sum payed for the clicked ones \", spent, \" successful clicks \", sum_ones, \" out of \", click_total)\n",
    "print(\"Cost per Click \", cpc)\n",
    "print(\"CTR \", ctr_1)\n",
    "    "
   ]
  },
  {
   "cell_type": "markdown",
   "metadata": {},
   "source": [
    "### Create new column for cheapest clicks and drop hour & weekday"
   ]
  },
  {
   "cell_type": "code",
   "execution_count": null,
   "metadata": {
    "collapsed": false
   },
   "outputs": [],
   "source": [
    "med = np.median(train_df.payprice[train_df.click == 1])\n",
    "\n",
    "train_df_cc = train_df\n",
    "X_train_cc = X_train.\n",
    "train_df_cc[\"cheapest_clicks\"] = train_df_cc.payprice < med\n",
    "y_train_cc = train_df_cc.click == 1\n",
    "y_train_cc = y_train_cc.astype(\"int\")"
   ]
  },
  {
   "cell_type": "code",
   "execution_count": null,
   "metadata": {
    "collapsed": false,
    "scrolled": true
   },
   "outputs": [],
   "source": [
    "clf_cc = xgb.XGBRegressor(n_estimators=100, max_depth = 3, learning_rate=0.5, objective= 'reg:linear')\n",
    "clf_cc.fit(X_train_cc, y_train_cc)"
   ]
  },
  {
   "cell_type": "code",
   "execution_count": null,
   "metadata": {
    "collapsed": false
   },
   "outputs": [],
   "source": [
    "y_cc = clf_cc.predict(X_valid_cc)"
   ]
  },
  {
   "cell_type": "code",
   "execution_count": null,
   "metadata": {
    "collapsed": false
   },
   "outputs": [],
   "source": [
    "threshold_cc = 0.005\n",
    "clicks_cc = y_cc > threshold_cc\n",
    "errs_cc = len(clicks_cc) - sum(clicks_cc == valid_df['click'])\n",
    "num_clicks_cc = len(valid_df[valid_df.click == 1]) + sum(clicks_cc)\n",
    "ratio_cc = 1-errs_cc/num_clicks_cc\n",
    "print(\"Number of predicted clicks \", sum(clicks_cc), \" with threshold set to \", threshold_cc)\n",
    "print(\"Number of predictions matching original \", sum(clicks_cc == valid_df['click']), \" -> \", errs_cc, \" errors\")\n",
    "print(\"Total num of clicks \", num_clicks_cc, \" -> ratio \", ratio_cc)"
   ]
  },
  {
   "cell_type": "code",
   "execution_count": null,
   "metadata": {
    "collapsed": false
   },
   "outputs": [],
   "source": [
    "sum(clicks == clicks_cc)"
   ]
  },
  {
   "cell_type": "code",
   "execution_count": null,
   "metadata": {
    "collapsed": false
   },
   "outputs": [],
   "source": [
    "X_valid_cc = X_valid.drop([\"weekday\", \"hour\"], axis=1)"
   ]
  },
  {
   "cell_type": "markdown",
   "metadata": {
    "collapsed": true
   },
   "source": [
    "## RF on validation set"
   ]
  },
  {
   "cell_type": "code",
   "execution_count": 7,
   "metadata": {
    "collapsed": true
   },
   "outputs": [],
   "source": [
    "from sklearn.ensemble import RandomForestClassifier\n",
    "from sklearn import preprocessing\n",
    "import random"
   ]
  },
  {
   "cell_type": "code",
   "execution_count": 8,
   "metadata": {
    "collapsed": true
   },
   "outputs": [],
   "source": [
    "# Set the random seed\n",
    "np.random.seed(12)\n",
    "\n",
    "# Initialize label encoder\n",
    "label_encoder = preprocessing.LabelEncoder()\n",
    "\n",
    "random_forest = RandomForestClassifier(n_estimators=1000, max_features=2, oob_score=True)"
   ]
  },
  {
   "cell_type": "code",
   "execution_count": 9,
   "metadata": {
    "collapsed": false
   },
   "outputs": [
    {
     "name": "stderr",
     "output_type": "stream",
     "text": [
      "/usr/local/lib/python3.5/dist-packages/ipykernel/__main__.py:8: SettingWithCopyWarning: \n",
      "A value is trying to be set on a copy of a slice from a DataFrame.\n",
      "Try using .loc[row_indexer,col_indexer] = value instead\n",
      "\n",
      "See the caveats in the documentation: http://pandas.pydata.org/pandas-docs/stable/indexing.html#indexing-view-versus-copy\n",
      "/usr/local/lib/python3.5/dist-packages/ipykernel/__main__.py:9: SettingWithCopyWarning: \n",
      "A value is trying to be set on a copy of a slice from a DataFrame.\n",
      "Try using .loc[row_indexer,col_indexer] = value instead\n",
      "\n",
      "See the caveats in the documentation: http://pandas.pydata.org/pandas-docs/stable/indexing.html#indexing-view-versus-copy\n",
      "/usr/local/lib/python3.5/dist-packages/ipykernel/__main__.py:11: SettingWithCopyWarning: \n",
      "A value is trying to be set on a copy of a slice from a DataFrame.\n",
      "Try using .loc[row_indexer,col_indexer] = value instead\n",
      "\n",
      "See the caveats in the documentation: http://pandas.pydata.org/pandas-docs/stable/indexing.html#indexing-view-versus-copy\n"
     ]
    }
   ],
   "source": [
    "features = [\"weekday\", \"hour\", \"region\", \"city\", \"area\", \"slotprice\", \"advertiser\", \"adexchange\"]\n",
    "\n",
    "valid_df['area'] = valid_df['slotwidth']*valid_df['slotheight']\n",
    "\n",
    "X_valid = valid_df[features]\n",
    "\n",
    "# encoding weekday and hour into one variable\n",
    "X_valid['weekday']=X_valid['weekday'].astype(str)\n",
    "X_valid['hour']=X_valid['hour'].astype(str)\n",
    "\n",
    "X_valid['time'] = X_valid[['weekday', 'hour']].apply(lambda x: ''.join(x), axis=1)\n",
    "\n",
    "X_valid = X_valid.astype(\"int\")\n",
    "\n",
    "#X_valid = X_valid.drop([\"hour\", \"weekday\"], axis=1)"
   ]
  },
  {
   "cell_type": "code",
   "execution_count": 10,
   "metadata": {
    "collapsed": false
   },
   "outputs": [
    {
     "name": "stderr",
     "output_type": "stream",
     "text": [
      "/usr/local/lib/python3.5/dist-packages/ipykernel/__main__.py:7: SettingWithCopyWarning: \n",
      "A value is trying to be set on a copy of a slice from a DataFrame.\n",
      "Try using .loc[row_indexer,col_indexer] = value instead\n",
      "\n",
      "See the caveats in the documentation: http://pandas.pydata.org/pandas-docs/stable/indexing.html#indexing-view-versus-copy\n",
      "/usr/local/lib/python3.5/dist-packages/ipykernel/__main__.py:8: SettingWithCopyWarning: \n",
      "A value is trying to be set on a copy of a slice from a DataFrame.\n",
      "Try using .loc[row_indexer,col_indexer] = value instead\n",
      "\n",
      "See the caveats in the documentation: http://pandas.pydata.org/pandas-docs/stable/indexing.html#indexing-view-versus-copy\n",
      "/usr/local/lib/python3.5/dist-packages/ipykernel/__main__.py:10: SettingWithCopyWarning: \n",
      "A value is trying to be set on a copy of a slice from a DataFrame.\n",
      "Try using .loc[row_indexer,col_indexer] = value instead\n",
      "\n",
      "See the caveats in the documentation: http://pandas.pydata.org/pandas-docs/stable/indexing.html#indexing-view-versus-copy\n"
     ]
    }
   ],
   "source": [
    "features = [\"weekday\", \"hour\", \"region\", \"city\", \"area\", \"slotprice\", \"advertiser\", \"adexchange\"]\n",
    "train_df['area'] = train_df['slotwidth']*train_df['slotheight']\n",
    "\n",
    "X_train = train_df[features]\n",
    "\n",
    "# encoding weekday and hour into one variable\n",
    "X_train['weekday']=X_train['weekday'].astype(str)\n",
    "X_train['hour']=X_train['hour'].astype(str)\n",
    "\n",
    "X_train['time'] = X_train[['weekday', 'hour']].apply(lambda x: ''.join(x), axis=1)\n",
    "\n",
    "X_train = X_train.astype(\"int\")"
   ]
  },
  {
   "cell_type": "code",
   "execution_count": 11,
   "metadata": {
    "collapsed": false
   },
   "outputs": [
    {
     "data": {
      "text/plain": [
       "RandomForestClassifier(bootstrap=True, class_weight=None, criterion='gini',\n",
       "            max_depth=None, max_features=2, max_leaf_nodes=None,\n",
       "            min_impurity_split=1e-07, min_samples_leaf=1,\n",
       "            min_samples_split=2, min_weight_fraction_leaf=0.0,\n",
       "            n_estimators=1000, n_jobs=1, oob_score=True, random_state=None,\n",
       "            verbose=0, warm_start=False)"
      ]
     },
     "execution_count": 11,
     "metadata": {},
     "output_type": "execute_result"
    }
   ],
   "source": [
    "y_valid = valid_df[\"click\"]\n",
    "\n",
    "random_forest.fit(X=X_valid, y=y_valid)"
   ]
  },
  {
   "cell_type": "code",
   "execution_count": 12,
   "metadata": {
    "collapsed": false
   },
   "outputs": [
    {
     "name": "stdout",
     "output_type": "stream",
     "text": [
      "weekday : 0.0421076751229\n",
      "hour : 0.0947864476496\n",
      "region : 0.102637393286\n",
      "city : 0.354731323184\n",
      "area : 0.0809471014576\n",
      "slotprice : 0.0936563767411\n",
      "advertiser : 0.0875729759374\n",
      "adexchange : 0.0167483203428\n",
      "time : 0.126812386278\n"
     ]
    }
   ],
   "source": [
    "features = [\"weekday\", \"hour\", \"region\", \"city\", \"area\", \"slotprice\", \"advertiser\", \"adexchange\", \"time\"]\n",
    "\n",
    "for feature, importance in zip(features, random_forest.feature_importances_):\n",
    "    print (feature, \":\", importance)"
   ]
  },
  {
   "cell_type": "code",
   "execution_count": 17,
   "metadata": {
    "collapsed": false
   },
   "outputs": [
    {
     "name": "stdout",
     "output_type": "stream",
     "text": [
      "<class 'pandas.core.frame.DataFrame'>\n",
      "Int64Index: 299749 entries, 0 to 299748\n",
      "Data columns (total 9 columns):\n",
      "weekday       299749 non-null int64\n",
      "hour          299749 non-null int64\n",
      "region        299749 non-null int64\n",
      "city          299749 non-null int64\n",
      "area          299749 non-null int64\n",
      "slotprice     299749 non-null int64\n",
      "advertiser    299749 non-null int64\n",
      "adexchange    299749 non-null int64\n",
      "time          299749 non-null int64\n",
      "dtypes: int64(9)\n",
      "memory usage: 22.9 MB\n"
     ]
    }
   ],
   "source": [
    "X_valid.info()"
   ]
  },
  {
   "cell_type": "code",
   "execution_count": 12,
   "metadata": {
    "collapsed": false
   },
   "outputs": [
    {
     "name": "stdout",
     "output_type": "stream",
     "text": [
      "OOB accuracy is  0.999079229622\n"
     ]
    }
   ],
   "source": [
    "print (\"OOB accuracy is \", random_forest.oob_score_)"
   ]
  },
  {
   "cell_type": "code",
   "execution_count": null,
   "metadata": {
    "collapsed": false
   },
   "outputs": [],
   "source": [
    "y_pred = random_forest.predict(X_valid)"
   ]
  },
  {
   "cell_type": "code",
   "execution_count": null,
   "metadata": {
    "collapsed": false
   },
   "outputs": [],
   "source": [
    "sum(abs(y_valid - y_pred))"
   ]
  },
  {
   "cell_type": "code",
   "execution_count": null,
   "metadata": {
    "collapsed": false
   },
   "outputs": [],
   "source": [
    "sum(y_valid)"
   ]
  },
  {
   "cell_type": "code",
   "execution_count": 1,
   "metadata": {
    "collapsed": false
   },
   "outputs": [
    {
     "ename": "NameError",
     "evalue": "name 'random_forest' is not defined",
     "output_type": "error",
     "traceback": [
      "\u001b[0;31m---------------------------------------------------------------------------\u001b[0m",
      "\u001b[0;31mNameError\u001b[0m                                 Traceback (most recent call last)",
      "\u001b[0;32m<ipython-input-1-f0a53085319b>\u001b[0m in \u001b[0;36m<module>\u001b[0;34m()\u001b[0m\n\u001b[0;32m----> 1\u001b[0;31m \u001b[0my_p_train\u001b[0m \u001b[0;34m=\u001b[0m \u001b[0mrandom_forest\u001b[0m\u001b[0;34m.\u001b[0m\u001b[0mpredict\u001b[0m\u001b[0;34m(\u001b[0m\u001b[0mX_train\u001b[0m\u001b[0;34m.\u001b[0m\u001b[0mhead\u001b[0m\u001b[0;34m(\u001b[0m\u001b[0;36m1000000\u001b[0m\u001b[0;34m)\u001b[0m\u001b[0;34m)\u001b[0m\u001b[0;34m\u001b[0m\u001b[0m\n\u001b[0m",
      "\u001b[0;31mNameError\u001b[0m: name 'random_forest' is not defined"
     ]
    }
   ],
   "source": [
    "y_p_train = random_forest.predict(X_train.head(500000))"
   ]
  },
  {
   "cell_type": "code",
   "execution_count": null,
   "metadata": {
    "collapsed": false
   },
   "outputs": [],
   "source": [
    "sum(y_p_train)"
   ]
  },
  {
   "cell_type": "code",
   "execution_count": null,
   "metadata": {
    "collapsed": false
   },
   "outputs": [],
   "source": [
    "false_positive = sum((y_p_train - train_df.click.head(100000)) == 1)\n",
    "false_negative = sum((y_p_train - train_df.click.head(100000)) == -1)\n",
    "print(\"Clicks marked as zero \", false_negative, \" non-clickes marked as one \", false_positive)\n",
    "                     "
   ]
  },
  {
   "cell_type": "code",
   "execution_count": null,
   "metadata": {
    "collapsed": false
   },
   "outputs": [],
   "source": [
    "sum(y_p_train == train_df.click.head(100000))"
   ]
  },
  {
   "cell_type": "code",
   "execution_count": null,
   "metadata": {
    "collapsed": true
   },
   "outputs": [],
   "source": []
  }
 ],
 "metadata": {
  "anaconda-cloud": {},
  "kernelspec": {
   "display_name": "Python 3",
   "language": "python",
   "name": "python3"
  },
  "language_info": {
   "codemirror_mode": {
    "name": "ipython",
    "version": 3
   },
   "file_extension": ".py",
   "mimetype": "text/x-python",
   "name": "python",
   "nbconvert_exporter": "python",
   "pygments_lexer": "ipython3",
   "version": "3.5.2"
  }
 },
 "nbformat": 4,
 "nbformat_minor": 1
}
