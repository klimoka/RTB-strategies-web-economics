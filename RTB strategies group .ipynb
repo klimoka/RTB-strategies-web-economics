{
 "cells": [
  {
   "cell_type": "code",
   "execution_count": 1,
   "metadata": {
    "collapsed": false
   },
   "outputs": [
    {
     "name": "stderr",
     "output_type": "stream",
     "text": [
      "/usr/local/lib/python3.5/dist-packages/sklearn/cross_validation.py:44: DeprecationWarning: This module was deprecated in version 0.18 in favor of the model_selection module into which all the refactored classes and functions are moved. Also note that the interface of the new CV iterators are different from that of this module. This module will be removed in 0.20.\n",
      "  \"This module will be removed in 0.20.\", DeprecationWarning)\n"
     ]
    }
   ],
   "source": [
    "import pandas as pd\n",
    "import matplotlib.pyplot as plt\n",
    "import numpy as np\n",
    "import numpy\n",
    "import xgboost as xgb\n",
    "import statistics as st\n",
    "from sklearn.ensemble import RandomForestClassifier\n",
    "from sklearn import preprocessing\n",
    "import random"
   ]
  },
  {
   "cell_type": "code",
   "execution_count": 2,
   "metadata": {
    "collapsed": true
   },
   "outputs": [],
   "source": [
    "train_df = pd.read_csv(\"train.csv\")"
   ]
  },
  {
   "cell_type": "code",
   "execution_count": 3,
   "metadata": {
    "collapsed": true
   },
   "outputs": [],
   "source": [
    "valid_df = pd.read_csv(\"validation.csv\")"
   ]
  },
  {
   "cell_type": "code",
   "execution_count": null,
   "metadata": {
    "collapsed": true
   },
   "outputs": [],
   "source": [
    "test_df = pd.read_csv(\"test.csv\")"
   ]
  },
  {
   "cell_type": "code",
   "execution_count": 82,
   "metadata": {
    "collapsed": true
   },
   "outputs": [],
   "source": [
    "def test_results(threshold, y_p, real_clicks, payprice):\n",
    "    \n",
    "    pred_clicks = y_p > threshold # predicted clicks with threshold\n",
    "    impressions = sum(pred_clicks)\n",
    "    clicked = sum((pred_clicks + real_clicks) == 2)\n",
    "    total_cost = sum(valid_df.payprice[clicks_0 == 1])\n",
    "    \n",
    "    ctr = clicked/impressions\n",
    "    cpc = total_cost/clicked\n",
    "    \n",
    "    \n",
    "    print(\"CTR is \", ctr, \" impressions \", impressions, \" clicks \", clicked, \" total cost \", total_cost, \" CPC \", cpc)\n",
    "    \n",
    "    #errs = len(pred_clicks) - sum(pred_clicks == real_clicks)\n",
    "    #num_clicks = len(valid_df[real_clicks == 1]) + sum(pred_clicks)\n",
    "    #ratio = 1-errs/num_clicks\n",
    "   # clicked = (sum(pred_clicks) - sum((pred_clicks - valid_df.click) == 1))\n",
    "    \n",
    "   #  print(\"Number of predicted clicks \", sum(clicks), \" with threshold set to \", threshold)\n",
    "  #  print(\"Number of predictions matching original \", sum(clicks == real_clicks), \" -> \", errs, \" errors\")\n",
    "  #  print(\"Total num of clicks \", num_clicks, \" -> ratio \", ratio)\n",
    "  #  print(\"CTR \", clicked/sum(clicks), \" and clicks \", clicked)\n",
    "    \n",
    "    return pred_clicks"
   ]
  },
  {
   "cell_type": "code",
   "execution_count": 5,
   "metadata": {
    "collapsed": true
   },
   "outputs": [],
   "source": [
    "def test_results_budget(clicks, payprice, real_clicks):\n",
    "    \n",
    "    sum_ones = 0\n",
    "    spent = 0\n",
    "    click_total = 0\n",
    "\n",
    "    for i in range(0,len(clicks),3):\n",
    "        if (clicks[i] == 1) & (spent < 6250):\n",
    "            click_total = click_total + 1\n",
    "            spent = spent + payprice[i]\n",
    "            if real_clicks[i] == 1:\n",
    "                sum_ones = sum_ones + 1\n",
    "\n",
    "        if spent > 6250:\n",
    "            break\n",
    "\n",
    "    cpc = spent/sum_ones\n",
    "    ctr_1 = sum_ones/click_total\n",
    "    print(\"Sum payed for the clicked ones \", spent, \" successful clicks \", sum_ones, \" out of \", click_total)\n",
    "    print(\"Cost per Click \", cpc)\n",
    "    print(\"CTR \", ctr_1)"
   ]
  },
  {
   "cell_type": "markdown",
   "metadata": {},
   "source": [
    "## clean data"
   ]
  },
  {
   "cell_type": "markdown",
   "metadata": {},
   "source": [
    "In slotformat map Na to 10 and in adexchange map null tu 0"
   ]
  },
  {
   "cell_type": "code",
   "execution_count": 6,
   "metadata": {
    "collapsed": false
   },
   "outputs": [],
   "source": [
    "for index, c in train_df.iterrows():  \n",
    "    if c.slotformat in \"Na\":\n",
    "        train_df.set_value(index, 'slotformat', 10)\n",
    "        \n",
    "d = {'1': 1, '2': 2, '3': 3 ,'4': 4, 'null': 0}\n",
    "train_df['adexchange']=train_df['adexchange'].map(d)"
   ]
  },
  {
   "cell_type": "code",
   "execution_count": 7,
   "metadata": {
    "collapsed": true
   },
   "outputs": [],
   "source": [
    "for index, c in valid_df.iterrows():  \n",
    "    if c.slotformat in \"Na\":\n",
    "        valid_df.set_value(index, 'slotformat', 10)\n",
    "\n",
    "d = {'1': 1, '2': 2, '3': 3 ,'4': 4, 'null': 0}\n",
    "valid_df['adexchange']=valid_df['adexchange'].map(d)"
   ]
  },
  {
   "cell_type": "code",
   "execution_count": null,
   "metadata": {
    "collapsed": false
   },
   "outputs": [],
   "source": [
    "for index, c in test_df.iterrows():  \n",
    "    if c.slotformat in \"Na\":\n",
    "        test_df.set_value(index, 'slotformat', 10)\n",
    "\n",
    "d = {'1': 1, '2': 2, '3': 3 ,'4': 4, 'null': 0}\n",
    "test_df['adexchange']=test_df['adexchange'].map(d)"
   ]
  },
  {
   "cell_type": "markdown",
   "metadata": {},
   "source": [
    "## Constant bidding"
   ]
  },
  {
   "cell_type": "code",
   "execution_count": 8,
   "metadata": {
    "collapsed": false
   },
   "outputs": [
    {
     "name": "stdout",
     "output_type": "stream",
     "text": [
      "[228 239 242 250 255 278 295 301]\n"
     ]
    }
   ],
   "source": [
    "const = train_df.bidprice.get_values() #[300, 294, 238, 227, 241, 277, 254, 249]\n",
    "const = np.unique(const)\n",
    "const = [c+1 for c in const]\n",
    "const = np.sort(const)\n",
    "print(const)"
   ]
  },
  {
   "cell_type": "markdown",
   "metadata": {},
   "source": [
    "doing for training set (ctr) and validation set (ctr_v)"
   ]
  },
  {
   "cell_type": "code",
   "execution_count": 9,
   "metadata": {
    "collapsed": false
   },
   "outputs": [
    {
     "name": "stdout",
     "output_type": "stream",
     "text": [
      "The highest CTR for constant bidding is for  228  with CTR =  0.0981850004625 % and CPC =  108275.126812\n",
      "Numer of impressions for training set 281102.0  with  276.0  clicks and total cost 29883935.0 \n",
      "\n",
      "The highest CTR for constant bidding  in valid. set is for  228  with CTR =  0.1112276353 % and CPC =  95139.7714286\n",
      "Numer of impressions for validation set 31467.0  with  35.0  clicks and total cost 3329892.0\n"
     ]
    }
   ],
   "source": [
    "ctr = np.arange(0, len(const), dtype=np.float)\n",
    "cpc = np.arange(0, len(const), dtype=np.float)\n",
    "ctr_v = np.arange(0, len(const), dtype=np.float)\n",
    "cpc_v = np.arange(0, len(const), dtype=np.float)\n",
    "total = np.arange(0, len(const), dtype=np.float)\n",
    "total_v = np.arange(0, len(const), dtype=np.float)\n",
    "clicks_c = np.arange(0, len(const), dtype=np.float)\n",
    "clicks_c_v = np.arange(0, len(const), dtype=np.float)\n",
    "i = 0\n",
    "\n",
    "for c in const:\n",
    "    #filt is clicks/non-clicks for impressions\n",
    "    filt = train_df.click[train_df.bidprice < c]\n",
    "    filt_v = valid_df.click[valid_df.bidprice < c]\n",
    "    \n",
    "    # clickes imp / total imp\n",
    "    ctr[i] = sum(filt)*100/len(filt)\n",
    "    ctr_v[i] = sum(filt_v)*100/len(filt_v)\n",
    "    \n",
    "    # clicked imp\n",
    "    clicks_c[i] = sum(filt)\n",
    "    clicks_c_v[i] = sum(filt_v)  \n",
    "    \n",
    "    # impressions\n",
    "    total[i] = len(filt)\n",
    "    total_v[i] = len(filt_v)\n",
    "    \n",
    "    # sum payprice of imp / num of clicks\n",
    "    cpc[i] = sum(train_df.payprice[train_df.bidprice < c])/clicks_c[i]\n",
    "    cpc_v[i] = sum(valid_df.payprice[valid_df.bidprice < c])/clicks_c_v[i]\n",
    "\n",
    "\n",
    "#    print(\"Price \", c)\n",
    "#    print(\"num of clicks: \", sum(filt), \"impressions: \", len(filt))\n",
    "#    print(\"num of clicks_v: \", sum(filt_v), \"impressions_v: \", len(filt_v), \"\\n\")\n",
    "    i = i + 1\n",
    "    \n",
    "max_index = np.argmax(ctr)\n",
    "max_index_v = np.argmax(ctr_v)\n",
    "print(\"The highest CTR for constant bidding is for \", const[max_index], \" with CTR = \", ctr[max_index], \\\n",
    "      \"% and CPC = \", cpc[max_index])\n",
    "\n",
    "print(\"Numer of impressions for training set\", total[max_index], \" with \", clicks_c[max_index] ,\\\n",
    "      \" clicks and total cost\", (cpc[max_index])*clicks_c[max_index],\"\\n\")\n",
    "\n",
    "print(\"The highest CTR for constant bidding  in valid. set is for \", const[max_index_v], \" with CTR = \", \\\n",
    "      ctr_v[max_index_v], \"% and CPC = \", cpc_v[max_index_v])\n",
    "\n",
    "print(\"Numer of impressions for validation set\", total_v[max_index_v], \" with \", clicks_c_v[max_index_v] ,\\\n",
    "      \" clicks and total cost\", (cpc_v[max_index_v])*clicks_c_v[max_index_v])"
   ]
  },
  {
   "cell_type": "code",
   "execution_count": 10,
   "metadata": {
    "collapsed": false
   },
   "outputs": [
    {
     "name": "stdout",
     "output_type": "stream",
     "text": [
      "Sum payed for the clicked ones  6320  successful clicks  0  out of  56\n",
      "Cost per Click  inf\n",
      "CTR  0.0\n"
     ]
    }
   ],
   "source": [
    "clicks_const = valid_df.bidprice < const[max_index_v]\n",
    "test_results_budget(clicks_const, valid_df.payprice, valid_df.click)"
   ]
  },
  {
   "cell_type": "markdown",
   "metadata": {},
   "source": [
    "## Random bidding"
   ]
  },
  {
   "cell_type": "code",
   "execution_count": 11,
   "metadata": {
    "collapsed": true
   },
   "outputs": [],
   "source": [
    "# 74 is the difference\n",
    "train_rb = train_df\n",
    "valid_rb = valid_df\n",
    "upper = range(10, 80, 10) # rounded up range obtainded from max_bidprice - min_bidprice"
   ]
  },
  {
   "cell_type": "code",
   "execution_count": 24,
   "metadata": {
    "collapsed": false,
    "scrolled": true
   },
   "outputs": [
    {
     "name": "stdout",
     "output_type": "stream",
     "text": [
      "num of clicks:  276 total:  281102  cpc  108275.126812  ctr  0.0981850004625\n",
      "num of clicks:  406 total:  506771  cpc  117332.992611  ctr  0.0801150815654\n",
      "num of clicks:  499 total:  667629  cpc  119760.965932  ctr  0.0747421097646\n",
      "num of clicks:  549 total:  777263  cpc  123826.865209  ctr  0.0706324628858\n",
      "num of clicks:  598 total:  843355  cpc  121960.242475  ctr  0.0709072691808\n",
      "num of clicks:  667 total:  920076  cpc  118142.131934  ctr  0.0724940113643\n",
      "num of clicks:  743 total:  990545  cpc  113724.271871  ctr  0.0750092121004\n"
     ]
    }
   ],
   "source": [
    "random_bid_basics = np.random.rand(len(train_rb), len(upper))\n",
    "name = [\"bid1\", \"bid2\", \"bid3\", \"bid4\", \"bid5\", \"bid6\", \"bid7\"]\n",
    "ctr_r = np.arange(0, len(upper), dtype=np.float)\n",
    "cpc_r = np.arange(0, len(upper), dtype=np.float)\n",
    "bottom = 227\n",
    "i = 0\n",
    "\n",
    "for u in upper:\n",
    "    train_rb[name[i]] = random_bid_basics[:,i]*u + bottom\n",
    "   \n",
    "    \n",
    "    filt = train_rb.click[train_rb.bidprice < train_rb[name[i]]]\n",
    "    ctr_r[i] = sum(filt)*100/len(filt)\n",
    "    cpc_r[i] = sum(train_rb.payprice[train_rb.bidprice < train_rb[name[i]]])/sum(filt)\n",
    "    print(\"num of clicks: \", sum(filt), \"total: \", len(filt), \" cpc \", cpc_r[i], \" ctr \", ctr_r[i])\n",
    "    \n",
    "    i = i+1"
   ]
  },
  {
   "cell_type": "code",
   "execution_count": 27,
   "metadata": {
    "collapsed": false
   },
   "outputs": [
    {
     "name": "stdout",
     "output_type": "stream",
     "text": [
      "The highest CTR for random bidding is for upper bound at  10  with CTR =  0.0981850004625 % with CPC =  108275.126812\n",
      "The highest CPC for random bidding is for upper bound at  40  with CPC =  123826.865209  and CTR =  0.0706324628858 %\n"
     ]
    }
   ],
   "source": [
    "max_index_r = np.argmax(ctr_r)\n",
    "print(\"The highest CTR for random bidding is for upper bound at \", upper[max_index_r], \\\n",
    "      \" with CTR = \", ctr_r[max_index_r], \"% with CPC = \", cpc_r[max_index_r])\n",
    "max_index_cpc_r = np.argmax(cpc_r)\n",
    "print(\"The highest CPC for random bidding is for upper bound at \", upper[max_index_cpc_r], \\\n",
    "      \" with CPC = \", cpc_r[max_index_cpc_r],\" and CTR = \", ctr_r[max_index_cpc_r], \"%\")\n"
   ]
  },
  {
   "cell_type": "code",
   "execution_count": 30,
   "metadata": {
    "collapsed": false
   },
   "outputs": [
    {
     "name": "stdout",
     "output_type": "stream",
     "text": [
      "The CTR for random bidding on validation set is for upper bound at  10  is  0.1112276353 %\n",
      "The CPC for random bidding on validation set is for upper bound at  10  is  95139.7714286\n",
      "Total cost for valid set is  3329892  with  31467  impressions and  35  clicks \n",
      "\n",
      "Sum payed for the clicked ones  6320  successful clicks  0  out of  56\n",
      "Cost per Click  inf\n",
      "CTR  0.0\n"
     ]
    }
   ],
   "source": [
    "random_bid_basics_v = np.random.rand(len(valid_rb), 1)\n",
    "valid_rb[\"rnd_bid\"] = random_bid_basics_v * upper[max_index] + bottom\n",
    "\n",
    "auction = valid_rb.bidprice < valid_rb[\"rnd_bid\"]\n",
    "clicks_rand = valid_rb.click[valid_rb.bidprice < valid_rb[\"rnd_bid\"]]\n",
    "\n",
    "ctr_r_v = sum(clicks_rand)*100/len(clicks_rand)\n",
    "cpc_r_v = sum(valid_rb.payprice[valid_rb.bidprice < valid_rb[\"rnd_bid\"]])/sum(clicks_rand)\n",
    "\n",
    "print(\"The CTR for random bidding on validation set is for upper bound at \", upper[max_index], \\\n",
    "      \" is \", ctr_r_v ,\"%\")\n",
    "\n",
    "print(\"The CPC for random bidding on validation set is for upper bound at \", upper[max_index_r], \\\n",
    "      \" is \", cpc_r_v)\n",
    "\n",
    "print(\"Total cost for valid set is \", sum(valid_rb.payprice[valid_rb.bidprice < valid_rb[\"rnd_bid\"]]), \\\n",
    "      \" with \", sum(auction), \" impressions and \", sum(clicks_rand), \" clicks \\n\" )\n",
    "\n",
    "test_results_budget(auction, valid_rb.payprice, valid_rb.click)"
   ]
  },
  {
   "cell_type": "markdown",
   "metadata": {},
   "source": [
    "## Linear model"
   ]
  },
  {
   "cell_type": "code",
   "execution_count": 31,
   "metadata": {
    "collapsed": true
   },
   "outputs": [],
   "source": [
    "#Define features\n",
    "features = [\"weekday\", \"hour\", \"region\", \"city\", \"area\", \"slotprice\", \"advertiser\", \"adexchange\"]\n",
    "# Prepare X and y\n",
    "\n",
    "train_df['area'] = train_df['slotwidth']*train_df['slotheight']\n",
    "\n",
    "\n",
    "X_train = train_df[features]\n",
    "y_train = train_df['click']"
   ]
  },
  {
   "cell_type": "code",
   "execution_count": 32,
   "metadata": {
    "collapsed": false
   },
   "outputs": [
    {
     "data": {
      "text/plain": [
       "XGBRegressor(base_score=0.5, colsample_bylevel=1, colsample_bytree=1, gamma=0,\n",
       "       learning_rate=0.5, max_delta_step=0, max_depth=3,\n",
       "       min_child_weight=1, missing=None, n_estimators=100, nthread=-1,\n",
       "       objective='binary:logistic', reg_alpha=0, reg_lambda=1,\n",
       "       scale_pos_weight=1, seed=0, silent=True, subsample=1)"
      ]
     },
     "execution_count": 32,
     "metadata": {},
     "output_type": "execute_result"
    }
   ],
   "source": [
    "# Train the model to estimate pCTR\n",
    "clf = xgb.XGBRegressor(n_estimators=100, max_depth = 3, learning_rate=0.5, objective= 'binary:logistic')\n",
    "clf.fit(X_train, y_train)"
   ]
  },
  {
   "cell_type": "code",
   "execution_count": 33,
   "metadata": {
    "collapsed": false
   },
   "outputs": [],
   "source": [
    "# preprocess validation set\n",
    "valid_df['area'] = valid_df['slotwidth']*valid_df['slotheight']\n",
    "\n",
    "X_valid = valid_df[features]"
   ]
  },
  {
   "cell_type": "code",
   "execution_count": 34,
   "metadata": {
    "collapsed": false
   },
   "outputs": [],
   "source": [
    "## predicts probabilities of being clicked for validation\n",
    "y_p_valid = clf.predict(X_valid)"
   ]
  },
  {
   "cell_type": "markdown",
   "metadata": {},
   "source": [
    "avgCTR is the average of probability that the ad will be clicked"
   ]
  },
  {
   "cell_type": "code",
   "execution_count": 35,
   "metadata": {
    "collapsed": false
   },
   "outputs": [
    {
     "name": "stdout",
     "output_type": "stream",
     "text": [
      "Average CTR  0.000755362039884\n"
     ]
    }
   ],
   "source": [
    "avgCTR = sum(y_p_valid)/len(y_p_valid)\n",
    "print(\"Average CTR \", avgCTR)"
   ]
  },
  {
   "cell_type": "code",
   "execution_count": 36,
   "metadata": {
    "collapsed": false
   },
   "outputs": [],
   "source": [
    "def calculate_bid(base_bid, y_pred, avgCTR):\n",
    "    bid = np.multiply(y_pred, base_bid/avgCTR)\n",
    "    return bid"
   ]
  },
  {
   "cell_type": "code",
   "execution_count": 37,
   "metadata": {
    "collapsed": true
   },
   "outputs": [],
   "source": [
    "def max_bid_base(prices, y_p_valid, avgCTR):\n",
    "    ration = np.zeros(len(prices))\n",
    "    total = len(valid_df)\n",
    "\n",
    "    for i in range(len(prices)):\n",
    "        tmp = calculate_bid(prices[i], y_p_valid, avgCTR) # calculates our bid price\n",
    "        tmp_2 = valid_df.click[valid_df.bidprice < tmp] # stores 0/1 for those auctions we won\n",
    "        if len(tmp_2) == 0:\n",
    "            ration[i] = 0\n",
    "        else:\n",
    "            ration[i] = sum(tmp_2)/len(tmp_2) # clicked/won actions\n",
    "\n",
    "    print(\"The bid_base with best CTR: \", prices[ration.argmax()])\n",
    "    print(\"CTR for winning bid_base is \", ration.max())\n",
    "    return prices[ration.argmax()]"
   ]
  },
  {
   "cell_type": "code",
   "execution_count": 38,
   "metadata": {
    "collapsed": false
   },
   "outputs": [
    {
     "name": "stdout",
     "output_type": "stream",
     "text": [
      "The bid_base with best CTR:  20\n",
      "CTR for winning bid_base is  0.0128479657388\n",
      "Cost for valid set  40386 , CPC  6731.0  impressions  467  clicks  6\n"
     ]
    }
   ],
   "source": [
    "prices = range(1, 301, 1)\n",
    "\n",
    "bid_base = max_bid_base(prices, y_p_valid, avgCTR)\n",
    "\n",
    "predicted_bid_v = calculate_bid(bid_base, y_p_valid, avgCTR)\n",
    "impressions_c = valid_df.click[valid_df.bidprice < predicted_bid_v]\n",
    "total_cost_c = sum(valid_df.payprice[valid_df.bidprice < predicted_bid_v])\n",
    "\n",
    "print(\"Cost for valid set \", total_cost_c, \", CPC \", (total_cost_c/sum(impressions_c)), \" impressions \",\\\n",
    "      len(impressions_c),\" clicks \", sum(impressions_c))"
   ]
  },
  {
   "cell_type": "code",
   "execution_count": 39,
   "metadata": {
    "collapsed": false
   },
   "outputs": [
    {
     "name": "stdout",
     "output_type": "stream",
     "text": [
      "With budget 6250 we won  66  auctions and on  1 of them was clicked\n",
      "CPC is then  6281.0\n"
     ]
    }
   ],
   "source": [
    "our_bids = calculate_bid(bid_base, y_p_valid, avgCTR) # calculates our bid price\n",
    "price_payed = 0\n",
    "clicked_won = 0 \n",
    "won = 0\n",
    "\n",
    "for i in range(len(our_bids)): \n",
    "    if (valid_df.bidprice[i] <= our_bids[i]):\n",
    "        price_payed = price_payed + valid_df.payprice[i]\n",
    "        if (price_payed < 6250):       \n",
    "            won = won + 1\n",
    "            if (valid_df.click[i] == 1):\n",
    "                clicked_won = clicked_won + 1\n",
    "        else:\n",
    "            break\n",
    "        \n",
    "print(\"With budget 6250 we won \", won, \" auctions and on \", clicked_won, \"of them was clicked\" )\n",
    "print(\"CPC is then \", (price_payed/clicked_won))"
   ]
  },
  {
   "cell_type": "markdown",
   "metadata": {},
   "source": [
    "## Best performing model"
   ]
  },
  {
   "cell_type": "markdown",
   "metadata": {},
   "source": [
    "### quadratic"
   ]
  },
  {
   "cell_type": "code",
   "execution_count": 69,
   "metadata": {
    "collapsed": false
   },
   "outputs": [],
   "source": [
    "def calculate_bid_q(base_bid, y_pred, avgCTR):\n",
    "    bid = np.multiply(y_pred**2, (base_bid*150)/avgCTR)\n",
    "    return bid"
   ]
  },
  {
   "cell_type": "code",
   "execution_count": 57,
   "metadata": {
    "collapsed": true
   },
   "outputs": [],
   "source": [
    "def max_bid_base_q(prices, y_p_valid, avgCTR):\n",
    "    ration = np.zeros(len(prices))\n",
    "    total = len(valid_df)\n",
    "\n",
    "    for i in range(len(prices)):\n",
    "        tmp = calculate_bid_q(prices[i], y_p_valid, avgCTR) # calculates our bid price\n",
    "        tmp_2 = valid_df.click[valid_df.bidprice < tmp] # stores 0/1 for those auctions we won\n",
    "\n",
    "        if len(tmp_2) == 0:\n",
    "            ration[i] = 0\n",
    "        else:\n",
    "            ration[i] = sum(tmp_2)/len(tmp_2) # clicked/won actions\n",
    "\n",
    "    print(\"The bid_base with best CTR: \", prices[ration.argmax()])\n",
    "    print(\"CTR for winning bid_base is \", ration.max())\n",
    "    \n",
    "    return prices[ration.argmax()]"
   ]
  },
  {
   "cell_type": "code",
   "execution_count": 70,
   "metadata": {
    "collapsed": false
   },
   "outputs": [
    {
     "name": "stdout",
     "output_type": "stream",
     "text": [
      "The bid_base with best CTR:  13\n",
      "CTR for winning bid_base is  0.0125260960334\n",
      "Cost for valid set  41115 , CPC  6852.5  impressions  479  clicks  6\n"
     ]
    }
   ],
   "source": [
    "prices_q = range(1, 450, 1)\n",
    "\n",
    "bid_base_q = max_bid_base(prices_q, y_p_valid, avgCTR)\n",
    "\n",
    "predicted_bid_v_q = calculate_bid_q(bid_base_q, y_p_valid, avgCTR)\n",
    "impressions_q = valid_df.click[valid_df.bidprice < predicted_bid_v_q]\n",
    "total_cost_q = sum(valid_df.payprice[valid_df.bidprice < predicted_bid_v_q])\n",
    "\n",
    "print(\"Cost for valid set \", total_cost_q, \", CPC \", (total_cost_q/sum(impressions_q)), \" impressions \",\\\n",
    "      len(impressions_q),\" clicks \", sum(impressions_q))"
   ]
  },
  {
   "cell_type": "markdown",
   "metadata": {},
   "source": [
    "### prediction with hour and weekday separated"
   ]
  },
  {
   "cell_type": "code",
   "execution_count": 71,
   "metadata": {
    "collapsed": false
   },
   "outputs": [
    {
     "data": {
      "text/plain": [
       "XGBRegressor(base_score=0.5, colsample_bylevel=1, colsample_bytree=1, gamma=0,\n",
       "       learning_rate=0.5, max_delta_step=0, max_depth=3,\n",
       "       min_child_weight=1, missing=None, n_estimators=100, nthread=-1,\n",
       "       objective='reg:linear', reg_alpha=0, reg_lambda=1,\n",
       "       scale_pos_weight=1, seed=0, silent=True, subsample=1)"
      ]
     },
     "execution_count": 71,
     "metadata": {},
     "output_type": "execute_result"
    }
   ],
   "source": [
    "# Train the model to estimate pCTR\n",
    "clf_0 = xgb.XGBRegressor(n_estimators=100, max_depth = 3, learning_rate=0.5)\n",
    "clf_0.fit(X_train, y_train)"
   ]
  },
  {
   "cell_type": "code",
   "execution_count": 72,
   "metadata": {
    "collapsed": false
   },
   "outputs": [],
   "source": [
    "## predicts probabilities of being clicked for validation\n",
    "y_p_valid_0 = clf_0.predict(X_valid)"
   ]
  },
  {
   "cell_type": "code",
   "execution_count": 83,
   "metadata": {
    "collapsed": false
   },
   "outputs": [
    {
     "name": "stdout",
     "output_type": "stream",
     "text": [
      "CTR is  0.0097244732577  impressions  617  clicks  6  total cost  54635  CPC  9105.83333333\n"
     ]
    }
   ],
   "source": [
    "threshold_0 = 0.01\n",
    "\n",
    "clicks_0 = test_results(threshold_0, y_p_valid_0, valid_df[\"click\"], valid_df[\"payprice\"])\n"
   ]
  },
  {
   "cell_type": "code",
   "execution_count": 81,
   "metadata": {
    "collapsed": false,
    "scrolled": true
   },
   "outputs": [
    {
     "name": "stdout",
     "output_type": "stream",
     "text": [
      "Sum payed for the clicked ones  6269  successful clicks  1  out of  73\n",
      "Cost per Click  6269.0\n",
      "CTR  0.0136986301369863\n"
     ]
    }
   ],
   "source": [
    "test_results_budget(clicks_0, valid_df.payprice, valid_df.click)"
   ]
  },
  {
   "cell_type": "markdown",
   "metadata": {},
   "source": [
    "### prediction for weekday, hour and weekday+hour"
   ]
  },
  {
   "cell_type": "code",
   "execution_count": 84,
   "metadata": {
    "collapsed": false,
    "scrolled": true
   },
   "outputs": [
    {
     "name": "stderr",
     "output_type": "stream",
     "text": [
      "/usr/local/lib/python3.5/dist-packages/ipykernel/__main__.py:2: SettingWithCopyWarning: \n",
      "A value is trying to be set on a copy of a slice from a DataFrame.\n",
      "Try using .loc[row_indexer,col_indexer] = value instead\n",
      "\n",
      "See the caveats in the documentation: http://pandas.pydata.org/pandas-docs/stable/indexing.html#indexing-view-versus-copy\n",
      "  from ipykernel import kernelapp as app\n",
      "/usr/local/lib/python3.5/dist-packages/ipykernel/__main__.py:3: SettingWithCopyWarning: \n",
      "A value is trying to be set on a copy of a slice from a DataFrame.\n",
      "Try using .loc[row_indexer,col_indexer] = value instead\n",
      "\n",
      "See the caveats in the documentation: http://pandas.pydata.org/pandas-docs/stable/indexing.html#indexing-view-versus-copy\n",
      "  app.launch_new_instance()\n",
      "/usr/local/lib/python3.5/dist-packages/ipykernel/__main__.py:5: SettingWithCopyWarning: \n",
      "A value is trying to be set on a copy of a slice from a DataFrame.\n",
      "Try using .loc[row_indexer,col_indexer] = value instead\n",
      "\n",
      "See the caveats in the documentation: http://pandas.pydata.org/pandas-docs/stable/indexing.html#indexing-view-versus-copy\n"
     ]
    }
   ],
   "source": [
    "# encoding weekday and hour into one variable\n",
    "X_train['weekday']=X_train['weekday'].astype(str)\n",
    "X_train['hour']=X_train['hour'].astype(str)\n",
    "\n",
    "X_train['time'] = X_train[['weekday', 'hour']].apply(lambda x: ''.join(x), axis=1)\n",
    "\n",
    "X_train = X_train.astype(\"int\")\n",
    "\n",
    "#X_train = X_train.drop([\"hour\", \"weekday\"], axis=1)"
   ]
  },
  {
   "cell_type": "code",
   "execution_count": 85,
   "metadata": {
    "collapsed": false,
    "scrolled": true
   },
   "outputs": [
    {
     "name": "stderr",
     "output_type": "stream",
     "text": [
      "/usr/local/lib/python3.5/dist-packages/ipykernel/__main__.py:2: SettingWithCopyWarning: \n",
      "A value is trying to be set on a copy of a slice from a DataFrame.\n",
      "Try using .loc[row_indexer,col_indexer] = value instead\n",
      "\n",
      "See the caveats in the documentation: http://pandas.pydata.org/pandas-docs/stable/indexing.html#indexing-view-versus-copy\n",
      "  from ipykernel import kernelapp as app\n",
      "/usr/local/lib/python3.5/dist-packages/ipykernel/__main__.py:3: SettingWithCopyWarning: \n",
      "A value is trying to be set on a copy of a slice from a DataFrame.\n",
      "Try using .loc[row_indexer,col_indexer] = value instead\n",
      "\n",
      "See the caveats in the documentation: http://pandas.pydata.org/pandas-docs/stable/indexing.html#indexing-view-versus-copy\n",
      "  app.launch_new_instance()\n",
      "/usr/local/lib/python3.5/dist-packages/ipykernel/__main__.py:5: SettingWithCopyWarning: \n",
      "A value is trying to be set on a copy of a slice from a DataFrame.\n",
      "Try using .loc[row_indexer,col_indexer] = value instead\n",
      "\n",
      "See the caveats in the documentation: http://pandas.pydata.org/pandas-docs/stable/indexing.html#indexing-view-versus-copy\n"
     ]
    }
   ],
   "source": [
    "# encoding weekday and hour into one variable\n",
    "X_valid['weekday']=X_valid['weekday'].astype(str)\n",
    "X_valid['hour']=X_valid['hour'].astype(str)\n",
    "\n",
    "X_valid['time'] = X_valid[['weekday', 'hour']].apply(lambda x: ''.join(x), axis=1)\n",
    "\n",
    "X_valid = X_valid.astype(\"int\")\n",
    "\n",
    "#X_valid = X_valid.drop([\"hour\", \"weekday\"], axis=1)"
   ]
  },
  {
   "cell_type": "code",
   "execution_count": 86,
   "metadata": {
    "collapsed": false
   },
   "outputs": [
    {
     "data": {
      "text/plain": [
       "XGBRegressor(base_score=0.5, colsample_bylevel=1, colsample_bytree=1, gamma=0,\n",
       "       learning_rate=0.5, max_delta_step=0, max_depth=3,\n",
       "       min_child_weight=1, missing=None, n_estimators=100, nthread=-1,\n",
       "       objective='reg:linear', reg_alpha=0, reg_lambda=1,\n",
       "       scale_pos_weight=1, seed=0, silent=True, subsample=1)"
      ]
     },
     "execution_count": 86,
     "metadata": {},
     "output_type": "execute_result"
    }
   ],
   "source": [
    "# Train the model to estimate pCTR\n",
    "clf_1 = xgb.XGBRegressor(n_estimators=100, max_depth = 3, learning_rate=0.5)\n",
    "clf_1.fit(X_train, y_train)"
   ]
  },
  {
   "cell_type": "code",
   "execution_count": 87,
   "metadata": {
    "collapsed": false
   },
   "outputs": [],
   "source": [
    "## predicts probabilities of being clicked for validation\n",
    "y_p_valid_1 = clf_1.predict(X_valid)"
   ]
  },
  {
   "cell_type": "code",
   "execution_count": 88,
   "metadata": {
    "collapsed": false
   },
   "outputs": [
    {
     "name": "stdout",
     "output_type": "stream",
     "text": [
      "CTR is  0.0117370892019  impressions  426  clicks  5  total cost  54635  CPC  10927.0\n"
     ]
    }
   ],
   "source": [
    "threshold_1 = 0.01\n",
    "\n",
    "clicks_1 = test_results(threshold_1, y_p_valid_1, valid_df[\"click\"], valid_df[\"payprice\"])"
   ]
  },
  {
   "cell_type": "code",
   "execution_count": 89,
   "metadata": {
    "collapsed": false
   },
   "outputs": [
    {
     "name": "stdout",
     "output_type": "stream",
     "text": [
      "Sum payed for the clicked ones  6412  successful clicks  3  out of  67\n",
      "Cost per Click  2137.33333333\n",
      "CTR  0.04477611940298507\n"
     ]
    }
   ],
   "source": [
    "test_results_budget(clicks_1, valid_df.payprice, valid_df.click)"
   ]
  },
  {
   "cell_type": "markdown",
   "metadata": {},
   "source": [
    "## XGBoost chosen atributes"
   ]
  },
  {
   "cell_type": "code",
   "execution_count": 90,
   "metadata": {
    "collapsed": false
   },
   "outputs": [
    {
     "name": "stderr",
     "output_type": "stream",
     "text": [
      "/usr/local/lib/python3.5/dist-packages/ipykernel/__main__.py:9: SettingWithCopyWarning: \n",
      "A value is trying to be set on a copy of a slice from a DataFrame.\n",
      "Try using .loc[row_indexer,col_indexer] = value instead\n",
      "\n",
      "See the caveats in the documentation: http://pandas.pydata.org/pandas-docs/stable/indexing.html#indexing-view-versus-copy\n",
      "/usr/local/lib/python3.5/dist-packages/ipykernel/__main__.py:10: SettingWithCopyWarning: \n",
      "A value is trying to be set on a copy of a slice from a DataFrame.\n",
      "Try using .loc[row_indexer,col_indexer] = value instead\n",
      "\n",
      "See the caveats in the documentation: http://pandas.pydata.org/pandas-docs/stable/indexing.html#indexing-view-versus-copy\n",
      "/usr/local/lib/python3.5/dist-packages/ipykernel/__main__.py:12: SettingWithCopyWarning: \n",
      "A value is trying to be set on a copy of a slice from a DataFrame.\n",
      "Try using .loc[row_indexer,col_indexer] = value instead\n",
      "\n",
      "See the caveats in the documentation: http://pandas.pydata.org/pandas-docs/stable/indexing.html#indexing-view-versus-copy\n"
     ]
    }
   ],
   "source": [
    "#Define features\n",
    "features_a = [\"weekday\", \"hour\", \"region\", \"city\", \"area\", \"slotprice\", \"advertiser\"]\n",
    "# Prepare X and y\n",
    "\n",
    "train_df['area'] = train_df['slotwidth']*train_df['slotheight']\n",
    "\n",
    "X_train_a = train_df[features_a]              \n",
    "              \n",
    "X_train_a['weekday']=X_train_a['weekday'].astype(str)\n",
    "X_train_a['hour']=X_train_a['hour'].astype(str)\n",
    "\n",
    "X_train_a['time'] = X_train_a[['weekday', 'hour']].apply(lambda x: ''.join(x), axis=1)\n",
    "\n",
    "X_train_a = X_train_a.astype(\"int\")\n",
    "X_train_a = X_train_a.drop([\"hour\", \"weekday\"], axis=1)\n",
    "\n",
    "y_train_a = train_df['click']"
   ]
  },
  {
   "cell_type": "code",
   "execution_count": 91,
   "metadata": {
    "collapsed": false
   },
   "outputs": [
    {
     "data": {
      "text/plain": [
       "XGBRegressor(base_score=0.5, colsample_bylevel=1, colsample_bytree=1, gamma=0,\n",
       "       learning_rate=0.5, max_delta_step=0, max_depth=3,\n",
       "       min_child_weight=1, missing=None, n_estimators=100, nthread=-1,\n",
       "       objective='reg:linear', reg_alpha=0, reg_lambda=1,\n",
       "       scale_pos_weight=1, seed=0, silent=True, subsample=1)"
      ]
     },
     "execution_count": 91,
     "metadata": {},
     "output_type": "execute_result"
    }
   ],
   "source": [
    "clf_a = xgb.XGBRegressor(n_estimators=100, max_depth = 3, learning_rate=0.5)\n",
    "clf_a.fit(X_train_a, y_train_a)"
   ]
  },
  {
   "cell_type": "code",
   "execution_count": 92,
   "metadata": {
    "collapsed": false
   },
   "outputs": [
    {
     "name": "stderr",
     "output_type": "stream",
     "text": [
      "/usr/local/lib/python3.5/dist-packages/ipykernel/__main__.py:5: SettingWithCopyWarning: \n",
      "A value is trying to be set on a copy of a slice from a DataFrame.\n",
      "Try using .loc[row_indexer,col_indexer] = value instead\n",
      "\n",
      "See the caveats in the documentation: http://pandas.pydata.org/pandas-docs/stable/indexing.html#indexing-view-versus-copy\n",
      "/usr/local/lib/python3.5/dist-packages/ipykernel/__main__.py:6: SettingWithCopyWarning: \n",
      "A value is trying to be set on a copy of a slice from a DataFrame.\n",
      "Try using .loc[row_indexer,col_indexer] = value instead\n",
      "\n",
      "See the caveats in the documentation: http://pandas.pydata.org/pandas-docs/stable/indexing.html#indexing-view-versus-copy\n",
      "/usr/local/lib/python3.5/dist-packages/ipykernel/__main__.py:8: SettingWithCopyWarning: \n",
      "A value is trying to be set on a copy of a slice from a DataFrame.\n",
      "Try using .loc[row_indexer,col_indexer] = value instead\n",
      "\n",
      "See the caveats in the documentation: http://pandas.pydata.org/pandas-docs/stable/indexing.html#indexing-view-versus-copy\n"
     ]
    }
   ],
   "source": [
    "valid_df['area'] = valid_df['slotwidth']*valid_df['slotheight']\n",
    "\n",
    "X_valid_a = valid_df[features_a]              \n",
    "              \n",
    "X_valid_a['weekday']=X_valid_a['weekday'].astype(str)\n",
    "X_valid_a['hour']=X_valid_a['hour'].astype(str)\n",
    "\n",
    "X_valid_a['time'] = X_valid_a[['weekday', 'hour']].apply(lambda x: ''.join(x), axis=1)\n",
    "\n",
    "X_valid_a = X_valid_a.astype(\"int\")\n",
    "X_valid_a = X_valid_a.drop([\"hour\", \"weekday\"], axis=1)\n"
   ]
  },
  {
   "cell_type": "code",
   "execution_count": 93,
   "metadata": {
    "collapsed": true
   },
   "outputs": [],
   "source": [
    "y_p_valid_a = clf_a.predict(X_valid_a)"
   ]
  },
  {
   "cell_type": "code",
   "execution_count": 95,
   "metadata": {
    "collapsed": false
   },
   "outputs": [
    {
     "name": "stdout",
     "output_type": "stream",
     "text": [
      "CTR is  0.00378787878788  impressions  528  clicks  2  total cost  54635  CPC  27317.5\n"
     ]
    }
   ],
   "source": [
    "clicks = test_results(0.01, y_p_valid_a, valid_df.click, valid_df.payprice)"
   ]
  },
  {
   "cell_type": "code",
   "execution_count": 96,
   "metadata": {
    "collapsed": false
   },
   "outputs": [
    {
     "name": "stdout",
     "output_type": "stream",
     "text": [
      "Sum payed for the clicked ones  6311  successful clicks  1  out of  70\n",
      "Cost per Click  6311.0\n",
      "CTR  0.014285714285714285\n"
     ]
    }
   ],
   "source": [
    "test_results_budget(clicks, valid_df.payprice, valid_df.click)"
   ]
  },
  {
   "cell_type": "markdown",
   "metadata": {},
   "source": [
    "## Undersampling"
   ]
  },
  {
   "cell_type": "code",
   "execution_count": 97,
   "metadata": {
    "collapsed": false
   },
   "outputs": [
    {
     "name": "stdout",
     "output_type": "stream",
     "text": [
      "Percentage of 1s in dataset train  0.0753964988446\n"
     ]
    }
   ],
   "source": [
    "ratio_1_0 = sum(train_df.click)/len(train_df)\n",
    "print(\"Percentage of 1s in dataset train \", ratio_1_0*100)\n",
    "subset = train_df.sample(frac=0.001)\n",
    "subset = pd.concat([subset, train_df[train_df.click == 1]])"
   ]
  },
  {
   "cell_type": "code",
   "execution_count": 98,
   "metadata": {
    "collapsed": false
   },
   "outputs": [
    {
     "name": "stderr",
     "output_type": "stream",
     "text": [
      "/usr/local/lib/python3.5/dist-packages/ipykernel/__main__.py:10: SettingWithCopyWarning: \n",
      "A value is trying to be set on a copy of a slice from a DataFrame.\n",
      "Try using .loc[row_indexer,col_indexer] = value instead\n",
      "\n",
      "See the caveats in the documentation: http://pandas.pydata.org/pandas-docs/stable/indexing.html#indexing-view-versus-copy\n",
      "/usr/local/lib/python3.5/dist-packages/ipykernel/__main__.py:11: SettingWithCopyWarning: \n",
      "A value is trying to be set on a copy of a slice from a DataFrame.\n",
      "Try using .loc[row_indexer,col_indexer] = value instead\n",
      "\n",
      "See the caveats in the documentation: http://pandas.pydata.org/pandas-docs/stable/indexing.html#indexing-view-versus-copy\n",
      "/usr/local/lib/python3.5/dist-packages/ipykernel/__main__.py:13: SettingWithCopyWarning: \n",
      "A value is trying to be set on a copy of a slice from a DataFrame.\n",
      "Try using .loc[row_indexer,col_indexer] = value instead\n",
      "\n",
      "See the caveats in the documentation: http://pandas.pydata.org/pandas-docs/stable/indexing.html#indexing-view-versus-copy\n"
     ]
    }
   ],
   "source": [
    "#Define features\n",
    "features = [\"weekday\", \"hour\", \"region\", \"city\", \"area\", \"slotprice\", \"advertiser\", \"adexchange\"]\n",
    "# Prepare X and y\n",
    "\n",
    "\n",
    "X_train_us = subset[features]\n",
    "y_train_us = subset['click']\n",
    "\n",
    "# encoding weekday and hour into one variable\n",
    "X_train_us['weekday']=X_train_us['weekday'].astype(str)\n",
    "X_train_us['hour']=X_train_us['hour'].astype(str)\n",
    "\n",
    "X_train_us['time'] = X_train_us[['weekday', 'hour']].apply(lambda x: ''.join(x), axis=1)\n",
    "\n",
    "X_train_us = X_train_us.astype(\"int\")"
   ]
  },
  {
   "cell_type": "code",
   "execution_count": 99,
   "metadata": {
    "collapsed": false
   },
   "outputs": [
    {
     "data": {
      "text/plain": [
       "XGBRegressor(base_score=0.5, colsample_bylevel=1, colsample_bytree=1, gamma=0,\n",
       "       learning_rate=0.5, max_delta_step=0, max_depth=3,\n",
       "       min_child_weight=1, missing=None, n_estimators=100, nthread=-1,\n",
       "       objective='reg:linear', reg_alpha=0, reg_lambda=1,\n",
       "       scale_pos_weight=1, seed=0, silent=True, subsample=1)"
      ]
     },
     "execution_count": 99,
     "metadata": {},
     "output_type": "execute_result"
    }
   ],
   "source": [
    "clf_us = xgb.XGBRegressor(n_estimators=100, max_depth = 3, learning_rate=0.5)\n",
    "clf_us.fit(X_train_us, y_train_us)"
   ]
  },
  {
   "cell_type": "code",
   "execution_count": 100,
   "metadata": {
    "collapsed": false
   },
   "outputs": [
    {
     "name": "stderr",
     "output_type": "stream",
     "text": [
      "/usr/local/lib/python3.5/dist-packages/ipykernel/__main__.py:4: SettingWithCopyWarning: \n",
      "A value is trying to be set on a copy of a slice from a DataFrame.\n",
      "Try using .loc[row_indexer,col_indexer] = value instead\n",
      "\n",
      "See the caveats in the documentation: http://pandas.pydata.org/pandas-docs/stable/indexing.html#indexing-view-versus-copy\n",
      "/usr/local/lib/python3.5/dist-packages/ipykernel/__main__.py:5: SettingWithCopyWarning: \n",
      "A value is trying to be set on a copy of a slice from a DataFrame.\n",
      "Try using .loc[row_indexer,col_indexer] = value instead\n",
      "\n",
      "See the caveats in the documentation: http://pandas.pydata.org/pandas-docs/stable/indexing.html#indexing-view-versus-copy\n",
      "/usr/local/lib/python3.5/dist-packages/ipykernel/__main__.py:7: SettingWithCopyWarning: \n",
      "A value is trying to be set on a copy of a slice from a DataFrame.\n",
      "Try using .loc[row_indexer,col_indexer] = value instead\n",
      "\n",
      "See the caveats in the documentation: http://pandas.pydata.org/pandas-docs/stable/indexing.html#indexing-view-versus-copy\n"
     ]
    }
   ],
   "source": [
    "X_valid_us = valid_df[features]\n",
    "\n",
    "# encoding weekday and hour into one variable\n",
    "X_valid_us['weekday']=X_valid_us['weekday'].astype(str)\n",
    "X_valid_us['hour']=X_valid_us['hour'].astype(str)\n",
    "\n",
    "X_valid_us['time'] = X_valid_us[['weekday', 'hour']].apply(lambda x: ''.join(x), axis=1)\n",
    "\n",
    "X_valid_us = X_valid_us.astype(\"int\")"
   ]
  },
  {
   "cell_type": "code",
   "execution_count": 101,
   "metadata": {
    "collapsed": true
   },
   "outputs": [],
   "source": [
    "y_predict_us = clf_1.predict(X_valid_us)"
   ]
  },
  {
   "cell_type": "code",
   "execution_count": 102,
   "metadata": {
    "collapsed": false
   },
   "outputs": [
    {
     "name": "stdout",
     "output_type": "stream",
     "text": [
      "CTR is  0.0117370892019  impressions  426  clicks  5  total cost  54635  CPC  10927.0\n"
     ]
    }
   ],
   "source": [
    "threshold_us = 0.01\n",
    "\n",
    "clicks_us = test_results(threshold_us, y_predict_us, valid_df[\"click\"], valid_df[\"payprice\"])"
   ]
  },
  {
   "cell_type": "code",
   "execution_count": 103,
   "metadata": {
    "collapsed": false
   },
   "outputs": [
    {
     "name": "stdout",
     "output_type": "stream",
     "text": [
      "Sum payed for the clicked ones  6412  successful clicks  3  out of  67\n",
      "Cost per Click  2137.33333333\n",
      "CTR  0.04477611940298507\n"
     ]
    }
   ],
   "source": [
    "test_results_budget(clicks_us, valid_df.payprice, valid_df.click)"
   ]
  },
  {
   "cell_type": "markdown",
   "metadata": {},
   "source": [
    "## Undersampled RF"
   ]
  },
  {
   "cell_type": "code",
   "execution_count": 104,
   "metadata": {
    "collapsed": true
   },
   "outputs": [],
   "source": [
    "# Set the random seed\n",
    "np.random.seed(12)\n",
    "\n",
    "# Initialize label encoder\n",
    "label_encoder = preprocessing.LabelEncoder()\n",
    "\n",
    "random_forest = RandomForestClassifier(n_estimators=1000, max_features=2, oob_score=True)"
   ]
  },
  {
   "cell_type": "code",
   "execution_count": 105,
   "metadata": {
    "collapsed": false
   },
   "outputs": [
    {
     "data": {
      "text/plain": [
       "RandomForestClassifier(bootstrap=True, class_weight=None, criterion='gini',\n",
       "            max_depth=None, max_features=2, max_leaf_nodes=None,\n",
       "            min_impurity_split=1e-07, min_samples_leaf=1,\n",
       "            min_samples_split=2, min_weight_fraction_leaf=0.0,\n",
       "            n_estimators=1000, n_jobs=1, oob_score=True, random_state=None,\n",
       "            verbose=0, warm_start=False)"
      ]
     },
     "execution_count": 105,
     "metadata": {},
     "output_type": "execute_result"
    }
   ],
   "source": [
    "random_forest.fit(X=X_train_us, y=y_train_us)"
   ]
  },
  {
   "cell_type": "code",
   "execution_count": 106,
   "metadata": {
    "collapsed": true
   },
   "outputs": [],
   "source": [
    "y_rf = random_forest.predict(X_valid_us)"
   ]
  },
  {
   "cell_type": "code",
   "execution_count": 107,
   "metadata": {
    "collapsed": false
   },
   "outputs": [
    {
     "name": "stdout",
     "output_type": "stream",
     "text": [
      "CTR is  0.00132256265965  impressions  77123  clicks  102  total cost  54635  CPC  535.637254902\n"
     ]
    }
   ],
   "source": [
    "clicks_rf = test_results(0.5, y_rf, valid_df.click, valid_df.payprice)"
   ]
  },
  {
   "cell_type": "code",
   "execution_count": 108,
   "metadata": {
    "collapsed": false
   },
   "outputs": [
    {
     "name": "stdout",
     "output_type": "stream",
     "text": [
      "Sum payed for the clicked ones  6344  successful clicks  0  out of  67\n",
      "Cost per Click  inf\n",
      "CTR  0.0\n"
     ]
    }
   ],
   "source": [
    "test_results_budget(clicks_rf, valid_df.payprice, valid_df.click)"
   ]
  }
 ],
 "metadata": {
  "anaconda-cloud": {},
  "kernelspec": {
   "display_name": "Python 3",
   "language": "python",
   "name": "python3"
  },
  "language_info": {
   "codemirror_mode": {
    "name": "ipython",
    "version": 3
   },
   "file_extension": ".py",
   "mimetype": "text/x-python",
   "name": "python",
   "nbconvert_exporter": "python",
   "pygments_lexer": "ipython3",
   "version": "3.5.2"
  }
 },
 "nbformat": 4,
 "nbformat_minor": 1
}
