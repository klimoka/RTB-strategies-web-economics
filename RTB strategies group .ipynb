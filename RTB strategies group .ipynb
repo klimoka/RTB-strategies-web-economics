{
 "cells": [
  {
   "cell_type": "code",
   "execution_count": 1,
   "metadata": {
    "collapsed": false
   },
   "outputs": [
    {
     "name": "stderr",
     "output_type": "stream",
     "text": [
      "/usr/local/lib/python3.5/dist-packages/sklearn/cross_validation.py:44: DeprecationWarning: This module was deprecated in version 0.18 in favor of the model_selection module into which all the refactored classes and functions are moved. Also note that the interface of the new CV iterators are different from that of this module. This module will be removed in 0.20.\n",
      "  \"This module will be removed in 0.20.\", DeprecationWarning)\n"
     ]
    }
   ],
   "source": [
    "import pandas as pd\n",
    "import matplotlib.pyplot as plt\n",
    "import numpy as np\n",
    "import numpy\n",
    "import xgboost as xgb\n",
    "import statistics as st\n",
    "from sklearn.ensemble import RandomForestClassifier\n",
    "from sklearn import preprocessing\n",
    "import random"
   ]
  },
  {
   "cell_type": "code",
   "execution_count": 2,
   "metadata": {
    "collapsed": true
   },
   "outputs": [],
   "source": [
    "train_df = pd.read_csv(\"train.csv\")"
   ]
  },
  {
   "cell_type": "code",
   "execution_count": 3,
   "metadata": {
    "collapsed": true
   },
   "outputs": [],
   "source": [
    "valid_df = pd.read_csv(\"validation.csv\")"
   ]
  },
  {
   "cell_type": "code",
   "execution_count": null,
   "metadata": {
    "collapsed": true
   },
   "outputs": [],
   "source": [
    "test_df = pd.read_csv(\"test.csv\")"
   ]
  },
  {
   "cell_type": "code",
   "execution_count": 4,
   "metadata": {
    "collapsed": true
   },
   "outputs": [],
   "source": [
    "def test_results(threshold, y_p, real_clicks, payprice):\n",
    "    \n",
    "    pred_clicks = y_p > threshold # predicted clicks with threshold\n",
    "    impressions = sum(pred_clicks)\n",
    "    clicked = sum((pred_clicks + real_clicks) == 2)\n",
    "    total_cost = sum(valid_df.payprice[clicks_0 == 1])\n",
    "    \n",
    "    ctr = clicked/impressions\n",
    "    cpc = total_cost/clicked\n",
    "    \n",
    "    \n",
    "    print(\"CTR is \", ctr, \" impressions \", impressions, \" clicks \", clicked, \" total cost \", total_cost, \" CPC \", cpc)\n",
    "    \n",
    "    return pred_clicks"
   ]
  },
  {
   "cell_type": "code",
   "execution_count": 5,
   "metadata": {
    "collapsed": true
   },
   "outputs": [],
   "source": [
    "def test_results_budget(clicks, payprice, real_clicks):\n",
    "    \n",
    "    sum_ones = 0\n",
    "    spent = 0\n",
    "    click_total = 0\n",
    "\n",
    "    for i in range(0,len(clicks),3):\n",
    "        if (clicks[i] == 1) & (spent < 6250):\n",
    "            click_total = click_total + 1\n",
    "            spent = spent + payprice[i]\n",
    "            if real_clicks[i] == 1:\n",
    "                sum_ones = sum_ones + 1\n",
    "\n",
    "        if spent > 6250:\n",
    "            break\n",
    "\n",
    "    cpc = spent/sum_ones\n",
    "    ctr_1 = sum_ones/click_total\n",
    "    print(\"Sum payed for the clicked ones \", spent, \" successful clicks \", sum_ones, \" out of \", click_total)\n",
    "    print(\"Cost per Click \", cpc)\n",
    "    print(\"CTR \", ctr_1)"
   ]
  },
  {
   "cell_type": "markdown",
   "metadata": {},
   "source": [
    "## clean data"
   ]
  },
  {
   "cell_type": "markdown",
   "metadata": {},
   "source": [
    "In slotformat map Na to 10 and in adexchange map null tu 0"
   ]
  },
  {
   "cell_type": "code",
   "execution_count": 6,
   "metadata": {
    "collapsed": false
   },
   "outputs": [],
   "source": [
    "for index, c in train_df.iterrows():  \n",
    "    if c.slotformat in \"Na\":\n",
    "        train_df.set_value(index, 'slotformat', 10)\n",
    "        \n",
    "d = {'1': 1, '2': 2, '3': 3 ,'4': 4, 'null': 0}\n",
    "train_df['adexchange']=train_df['adexchange'].map(d)"
   ]
  },
  {
   "cell_type": "code",
   "execution_count": 7,
   "metadata": {
    "collapsed": true
   },
   "outputs": [],
   "source": [
    "for index, c in valid_df.iterrows():  \n",
    "    if c.slotformat in \"Na\":\n",
    "        valid_df.set_value(index, 'slotformat', 10)\n",
    "\n",
    "d = {'1': 1, '2': 2, '3': 3 ,'4': 4, 'null': 0}\n",
    "valid_df['adexchange']=valid_df['adexchange'].map(d)"
   ]
  },
  {
   "cell_type": "code",
   "execution_count": null,
   "metadata": {
    "collapsed": false
   },
   "outputs": [],
   "source": [
    "for index, c in test_df.iterrows():  \n",
    "    if c.slotformat in \"Na\":\n",
    "        test_df.set_value(index, 'slotformat', 10)\n",
    "\n",
    "d = {'1': 1, '2': 2, '3': 3 ,'4': 4, 'null': 0}\n",
    "test_df['adexchange']=test_df['adexchange'].map(d)"
   ]
  },
  {
   "cell_type": "markdown",
   "metadata": {},
   "source": [
    "## Constant bidding"
   ]
  },
  {
   "cell_type": "code",
   "execution_count": 8,
   "metadata": {
    "collapsed": false
   },
   "outputs": [
    {
     "name": "stdout",
     "output_type": "stream",
     "text": [
      "[228 239 242 250 255 278 295 301]\n"
     ]
    }
   ],
   "source": [
    "const = train_df.bidprice.get_values() #[300, 294, 238, 227, 241, 277, 254, 249]\n",
    "const = np.unique(const)\n",
    "const = [c+1 for c in const]\n",
    "const = np.sort(const)\n",
    "print(const)"
   ]
  },
  {
   "cell_type": "markdown",
   "metadata": {},
   "source": [
    "doing for training set (ctr) and validation set (ctr_v)"
   ]
  },
  {
   "cell_type": "code",
   "execution_count": 9,
   "metadata": {
    "collapsed": false
   },
   "outputs": [
    {
     "name": "stdout",
     "output_type": "stream",
     "text": [
      "The highest CTR for constant bidding is for  228  with CTR =  0.0981850004625 % and CPC =  108275.126812\n",
      "Numer of impressions for training set 281102.0  with  276.0  clicks and total cost 29883935.0 \n",
      "\n",
      "The highest CTR for constant bidding  in valid. set is for  228  with CTR =  0.1112276353 % and CPC =  95139.7714286\n",
      "Numer of impressions for validation set 31467.0  with  35.0  clicks and total cost 3329892.0\n"
     ]
    }
   ],
   "source": [
    "ctr = np.arange(0, len(const), dtype=np.float)\n",
    "cpc = np.arange(0, len(const), dtype=np.float)\n",
    "ctr_v = np.arange(0, len(const), dtype=np.float)\n",
    "cpc_v = np.arange(0, len(const), dtype=np.float)\n",
    "total = np.arange(0, len(const), dtype=np.float)\n",
    "total_v = np.arange(0, len(const), dtype=np.float)\n",
    "clicks_c = np.arange(0, len(const), dtype=np.float)\n",
    "clicks_c_v = np.arange(0, len(const), dtype=np.float)\n",
    "i = 0\n",
    "\n",
    "for c in const:\n",
    "    #filt is clicks/non-clicks for impressions\n",
    "    filt = train_df.click[train_df.bidprice < c]\n",
    "    filt_v = valid_df.click[valid_df.bidprice < c]\n",
    "    \n",
    "    # clickes imp / total imp\n",
    "    ctr[i] = sum(filt)*100/len(filt)\n",
    "    ctr_v[i] = sum(filt_v)*100/len(filt_v)\n",
    "    \n",
    "    # clicked imp\n",
    "    clicks_c[i] = sum(filt)\n",
    "    clicks_c_v[i] = sum(filt_v)  \n",
    "    \n",
    "    # impressions\n",
    "    total[i] = len(filt)\n",
    "    total_v[i] = len(filt_v)\n",
    "    \n",
    "    # sum payprice of imp / num of clicks\n",
    "    cpc[i] = sum(train_df.payprice[train_df.bidprice < c])/clicks_c[i]\n",
    "    cpc_v[i] = sum(valid_df.payprice[valid_df.bidprice < c])/clicks_c_v[i]\n",
    "\n",
    "    i = i + 1\n",
    "    \n",
    "max_index = np.argmax(ctr)\n",
    "max_index_v = np.argmax(ctr_v)\n",
    "print(\"The highest CTR for constant bidding is for \", const[max_index], \" with CTR = \", ctr[max_index], \\\n",
    "      \"% and CPC = \", cpc[max_index])\n",
    "\n",
    "print(\"Numer of impressions for training set\", total[max_index], \" with \", clicks_c[max_index] ,\\\n",
    "      \" clicks and total cost\", (cpc[max_index])*clicks_c[max_index],\"\\n\")\n",
    "\n",
    "print(\"The highest CTR for constant bidding  in valid. set is for \", const[max_index_v], \" with CTR = \", \\\n",
    "      ctr_v[max_index_v], \"% and CPC = \", cpc_v[max_index_v])\n",
    "\n",
    "print(\"Numer of impressions for validation set\", total_v[max_index_v], \" with \", clicks_c_v[max_index_v] ,\\\n",
    "      \" clicks and total cost\", (cpc_v[max_index_v])*clicks_c_v[max_index_v])"
   ]
  },
  {
   "cell_type": "code",
   "execution_count": 10,
   "metadata": {
    "collapsed": false
   },
   "outputs": [
    {
     "name": "stdout",
     "output_type": "stream",
     "text": [
      "Sum payed for the clicked ones  6320  successful clicks  0  out of  56\n",
      "Cost per Click  inf\n",
      "CTR  0.0\n"
     ]
    }
   ],
   "source": [
    "clicks_const = valid_df.bidprice < const[max_index_v]\n",
    "test_results_budget(clicks_const, valid_df.payprice, valid_df.click)"
   ]
  },
  {
   "cell_type": "markdown",
   "metadata": {},
   "source": [
    "## Random bidding"
   ]
  },
  {
   "cell_type": "code",
   "execution_count": 11,
   "metadata": {
    "collapsed": true
   },
   "outputs": [],
   "source": [
    "# 74 is the difference\n",
    "train_rb = train_df\n",
    "valid_rb = valid_df\n",
    "upper = range(10, 80, 10) # rounded up range obtainded from max_bidprice - min_bidprice"
   ]
  },
  {
   "cell_type": "code",
   "execution_count": 12,
   "metadata": {
    "collapsed": false,
    "scrolled": true
   },
   "outputs": [
    {
     "name": "stdout",
     "output_type": "stream",
     "text": [
      "num of clicks:  276 total:  281102  cpc  108275.126812  ctr  0.0981850004625\n",
      "num of clicks:  408 total:  506732  cpc  116741.938725  ctr  0.0805159334717\n",
      "num of clicks:  487 total:  668154  cpc  122761.683778  ctr  0.0728873882368\n",
      "num of clicks:  565 total:  775853  cpc  120083.244248  ctr  0.072823073443\n",
      "num of clicks:  611 total:  842939  cpc  119186.409165  ctr  0.0724844858287\n",
      "num of clicks:  684 total:  919735  cpc  115207.710526  ctr  0.0743692476637\n",
      "num of clicks:  739 total:  990367  cpc  114415.313938  ctr  0.0746188029286\n"
     ]
    }
   ],
   "source": [
    "random_bid_basics = np.random.rand(len(train_rb), len(upper))\n",
    "name = [\"bid1\", \"bid2\", \"bid3\", \"bid4\", \"bid5\", \"bid6\", \"bid7\"]\n",
    "ctr_r = np.arange(0, len(upper), dtype=np.float)\n",
    "cpc_r = np.arange(0, len(upper), dtype=np.float)\n",
    "bottom = 227\n",
    "i = 0\n",
    "\n",
    "for u in upper:\n",
    "    train_rb[name[i]] = random_bid_basics[:,i]*u + bottom\n",
    "   \n",
    "    \n",
    "    filt = train_rb.click[train_rb.bidprice < train_rb[name[i]]]\n",
    "    ctr_r[i] = sum(filt)*100/len(filt)\n",
    "    cpc_r[i] = sum(train_rb.payprice[train_rb.bidprice < train_rb[name[i]]])/sum(filt)\n",
    "    print(\"num of clicks: \", sum(filt), \"total: \", len(filt), \" cpc \", cpc_r[i], \" ctr \", ctr_r[i])\n",
    "    \n",
    "    i = i+1"
   ]
  },
  {
   "cell_type": "code",
   "execution_count": 13,
   "metadata": {
    "collapsed": false
   },
   "outputs": [
    {
     "name": "stdout",
     "output_type": "stream",
     "text": [
      "The highest CTR for random bidding is for upper bound at  10  with CTR =  0.0981850004625 % with CPC =  108275.126812\n",
      "The highest CPC for random bidding is for upper bound at  30  with CPC =  122761.683778  and CTR =  0.0728873882368 %\n"
     ]
    }
   ],
   "source": [
    "max_index_r = np.argmax(ctr_r)\n",
    "print(\"The highest CTR for random bidding is for upper bound at \", upper[max_index_r], \\\n",
    "      \" with CTR = \", ctr_r[max_index_r], \"% with CPC = \", cpc_r[max_index_r])\n",
    "max_index_cpc_r = np.argmax(cpc_r)\n",
    "print(\"The highest CPC for random bidding is for upper bound at \", upper[max_index_cpc_r], \\\n",
    "      \" with CPC = \", cpc_r[max_index_cpc_r],\" and CTR = \", ctr_r[max_index_cpc_r], \"%\")\n"
   ]
  },
  {
   "cell_type": "code",
   "execution_count": 14,
   "metadata": {
    "collapsed": false
   },
   "outputs": [
    {
     "name": "stdout",
     "output_type": "stream",
     "text": [
      "The CTR for random bidding on validation set is for upper bound at  10  is  0.1112276353 %\n",
      "The CPC for random bidding on validation set is for upper bound at  10  is  95139.7714286\n",
      "Total cost for valid set is  3329892  with  31467  impressions and  35  clicks \n",
      "\n",
      "Sum payed for the clicked ones  6320  successful clicks  0  out of  56\n",
      "Cost per Click  inf\n",
      "CTR  0.0\n"
     ]
    }
   ],
   "source": [
    "random_bid_basics_v = np.random.rand(len(valid_rb), 1)\n",
    "valid_rb[\"rnd_bid\"] = random_bid_basics_v * upper[max_index] + bottom\n",
    "\n",
    "auction = valid_rb.bidprice < valid_rb[\"rnd_bid\"]\n",
    "clicks_rand = valid_rb.click[valid_rb.bidprice < valid_rb[\"rnd_bid\"]]\n",
    "\n",
    "ctr_r_v = sum(clicks_rand)*100/len(clicks_rand)\n",
    "cpc_r_v = sum(valid_rb.payprice[valid_rb.bidprice < valid_rb[\"rnd_bid\"]])/sum(clicks_rand)\n",
    "\n",
    "print(\"The CTR for random bidding on validation set is for upper bound at \", upper[max_index], \\\n",
    "      \" is \", ctr_r_v ,\"%\")\n",
    "\n",
    "print(\"The CPC for random bidding on validation set is for upper bound at \", upper[max_index_r], \\\n",
    "      \" is \", cpc_r_v)\n",
    "\n",
    "print(\"Total cost for valid set is \", sum(valid_rb.payprice[valid_rb.bidprice < valid_rb[\"rnd_bid\"]]), \\\n",
    "      \" with \", sum(auction), \" impressions and \", sum(clicks_rand), \" clicks \\n\" )\n",
    "\n",
    "test_results_budget(auction, valid_rb.payprice, valid_rb.click)"
   ]
  },
  {
   "cell_type": "markdown",
   "metadata": {},
   "source": [
    "## Linear model"
   ]
  },
  {
   "cell_type": "code",
   "execution_count": 15,
   "metadata": {
    "collapsed": true
   },
   "outputs": [],
   "source": [
    "#Define features\n",
    "features = [\"weekday\", \"hour\", \"region\", \"city\", \"area\", \"slotprice\", \"advertiser\", \"adexchange\"]\n",
    "# Prepare X and y\n",
    "\n",
    "train_df['area'] = train_df['slotwidth']*train_df['slotheight']\n",
    "\n",
    "\n",
    "X_train = train_df[features]\n",
    "y_train = train_df['click']"
   ]
  },
  {
   "cell_type": "code",
   "execution_count": 16,
   "metadata": {
    "collapsed": false
   },
   "outputs": [
    {
     "data": {
      "text/plain": [
       "XGBRegressor(base_score=0.5, colsample_bylevel=1, colsample_bytree=1, gamma=0,\n",
       "       learning_rate=0.5, max_delta_step=0, max_depth=3,\n",
       "       min_child_weight=1, missing=None, n_estimators=100, nthread=-1,\n",
       "       objective='binary:logistic', reg_alpha=0, reg_lambda=1,\n",
       "       scale_pos_weight=1, seed=0, silent=True, subsample=1)"
      ]
     },
     "execution_count": 16,
     "metadata": {},
     "output_type": "execute_result"
    }
   ],
   "source": [
    "# Train the model to estimate pCTR\n",
    "clf = xgb.XGBRegressor(n_estimators=100, max_depth = 3, learning_rate=0.5, objective= 'binary:logistic')\n",
    "clf.fit(X_train, y_train)"
   ]
  },
  {
   "cell_type": "code",
   "execution_count": 17,
   "metadata": {
    "collapsed": false
   },
   "outputs": [],
   "source": [
    "# preprocess validation set\n",
    "valid_df['area'] = valid_df['slotwidth']*valid_df['slotheight']\n",
    "\n",
    "X_valid = valid_df[features]"
   ]
  },
  {
   "cell_type": "code",
   "execution_count": 18,
   "metadata": {
    "collapsed": false
   },
   "outputs": [],
   "source": [
    "## predicts probabilities of being clicked for validation\n",
    "y_p_valid = clf.predict(X_valid)"
   ]
  },
  {
   "cell_type": "markdown",
   "metadata": {},
   "source": [
    "avgCTR is the average of probability that the ad will be clicked"
   ]
  },
  {
   "cell_type": "code",
   "execution_count": 19,
   "metadata": {
    "collapsed": false
   },
   "outputs": [
    {
     "name": "stdout",
     "output_type": "stream",
     "text": [
      "Average CTR  0.000755362039884\n"
     ]
    }
   ],
   "source": [
    "avgCTR = sum(y_p_valid)/len(y_p_valid)\n",
    "print(\"Average CTR \", avgCTR)"
   ]
  },
  {
   "cell_type": "code",
   "execution_count": 20,
   "metadata": {
    "collapsed": false
   },
   "outputs": [],
   "source": [
    "def calculate_bid(base_bid, y_pred, avgCTR):\n",
    "    bid = np.multiply(y_pred, base_bid/avgCTR)\n",
    "    return bid"
   ]
  },
  {
   "cell_type": "code",
   "execution_count": 21,
   "metadata": {
    "collapsed": true
   },
   "outputs": [],
   "source": [
    "def max_bid_base(prices, y_p_valid, avgCTR):\n",
    "    ration = np.zeros(len(prices))\n",
    "    total = len(valid_df)\n",
    "\n",
    "    for i in range(len(prices)):\n",
    "        tmp = calculate_bid(prices[i], y_p_valid, avgCTR) # calculates our bid price\n",
    "        tmp_2 = valid_df.click[valid_df.bidprice < tmp] # stores 0/1 for those auctions we won\n",
    "        if len(tmp_2) == 0:\n",
    "            ration[i] = 0\n",
    "        else:\n",
    "            ration[i] = sum(tmp_2)/len(tmp_2) # clicked/won actions\n",
    "\n",
    "    print(\"The bid_base with best CTR: \", prices[ration.argmax()])\n",
    "    print(\"CTR for winning bid_base is \", ration.max())\n",
    "    return prices[ration.argmax()]"
   ]
  },
  {
   "cell_type": "code",
   "execution_count": 22,
   "metadata": {
    "collapsed": false
   },
   "outputs": [
    {
     "name": "stdout",
     "output_type": "stream",
     "text": [
      "The bid_base with best CTR:  20\n",
      "CTR for winning bid_base is  0.0128479657388\n",
      "Cost for valid set  40386 , CPC  6731.0  impressions  467  clicks  6\n"
     ]
    }
   ],
   "source": [
    "prices = range(1, 301, 1)\n",
    "\n",
    "bid_base = max_bid_base(prices, y_p_valid, avgCTR)\n",
    "\n",
    "predicted_bid_v = calculate_bid(bid_base, y_p_valid, avgCTR)\n",
    "impressions_c = valid_df.click[valid_df.bidprice < predicted_bid_v]\n",
    "total_cost_c = sum(valid_df.payprice[valid_df.bidprice < predicted_bid_v])\n",
    "\n",
    "print(\"Cost for valid set \", total_cost_c, \", CPC \", (total_cost_c/sum(impressions_c)), \" impressions \",\\\n",
    "      len(impressions_c),\" clicks \", sum(impressions_c))"
   ]
  },
  {
   "cell_type": "code",
   "execution_count": 23,
   "metadata": {
    "collapsed": false
   },
   "outputs": [
    {
     "name": "stdout",
     "output_type": "stream",
     "text": [
      "With budget 6250 we won  66  auctions and on  1 of them was clicked\n",
      "CPC is then  6281.0\n"
     ]
    }
   ],
   "source": [
    "our_bids = calculate_bid(bid_base, y_p_valid, avgCTR) # calculates our bid price\n",
    "price_payed = 0\n",
    "clicked_won = 0 \n",
    "won = 0\n",
    "\n",
    "for i in range(len(our_bids)): \n",
    "    if (valid_df.bidprice[i] <= our_bids[i]):\n",
    "        price_payed = price_payed + valid_df.payprice[i]\n",
    "        if (price_payed < 6250):       \n",
    "            won = won + 1\n",
    "            if (valid_df.click[i] == 1):\n",
    "                clicked_won = clicked_won + 1\n",
    "        else:\n",
    "            break\n",
    "        \n",
    "print(\"With budget 6250 we won \", won, \" auctions and on \", clicked_won, \"of them was clicked\" )\n",
    "print(\"CPC is then \", (price_payed/clicked_won))"
   ]
  }
 ],
 "metadata": {
  "anaconda-cloud": {},
  "kernelspec": {
   "display_name": "Python 3",
   "language": "python",
   "name": "python3"
  },
  "language_info": {
   "codemirror_mode": {
    "name": "ipython",
    "version": 3
   },
   "file_extension": ".py",
   "mimetype": "text/x-python",
   "name": "python",
   "nbconvert_exporter": "python",
   "pygments_lexer": "ipython3",
   "version": "3.5.2"
  }
 },
 "nbformat": 4,
 "nbformat_minor": 1
}
