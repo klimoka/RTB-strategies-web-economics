{
 "cells": [
  {
   "cell_type": "code",
   "execution_count": 1,
   "metadata": {
    "collapsed": false
   },
   "outputs": [
    {
     "name": "stderr",
     "output_type": "stream",
     "text": [
      "/usr/local/lib/python3.5/dist-packages/sklearn/cross_validation.py:44: DeprecationWarning: This module was deprecated in version 0.18 in favor of the model_selection module into which all the refactored classes and functions are moved. Also note that the interface of the new CV iterators are different from that of this module. This module will be removed in 0.20.\n",
      "  \"This module will be removed in 0.20.\", DeprecationWarning)\n"
     ]
    }
   ],
   "source": [
    "import pandas as pd\n",
    "import matplotlib.pyplot as plt\n",
    "import numpy as np\n",
    "import numpy\n",
    "import xgboost as xgb\n",
    "import statistics as st\n",
    "from sklearn.ensemble import RandomForestClassifier\n",
    "from sklearn import preprocessing\n",
    "import random"
   ]
  },
  {
   "cell_type": "code",
   "execution_count": 2,
   "metadata": {
    "collapsed": true
   },
   "outputs": [],
   "source": [
    "train_df = pd.read_csv(\"train.csv\")"
   ]
  },
  {
   "cell_type": "code",
   "execution_count": 3,
   "metadata": {
    "collapsed": true
   },
   "outputs": [],
   "source": [
    "valid_df = pd.read_csv(\"validation.csv\")"
   ]
  },
  {
   "cell_type": "code",
   "execution_count": null,
   "metadata": {
    "collapsed": true
   },
   "outputs": [],
   "source": [
    "test_df = pd.read_csv(\"test.csv\")"
   ]
  },
  {
   "cell_type": "code",
   "execution_count": 4,
   "metadata": {
    "collapsed": true
   },
   "outputs": [],
   "source": [
    "def test_results(threshold, y_p, real_clicks, payprice):\n",
    "    \n",
    "    pred_clicks = y_p > threshold # predicted clicks with threshold\n",
    "    impressions = sum(pred_clicks)\n",
    "    clicked = sum((pred_clicks + real_clicks) == 2)\n",
    "    total_cost = sum(valid_df.payprice[clicks_0 == 1])\n",
    "    \n",
    "    ctr = clicked/impressions\n",
    "    cpc = total_cost/clicked\n",
    "    \n",
    "    \n",
    "    print(\"CTR is \", ctr, \" impressions \", impressions, \" clicks \", clicked, \" total cost \", total_cost, \" CPC \", cpc)\n",
    "    \n",
    "    return pred_clicks"
   ]
  },
  {
   "cell_type": "code",
   "execution_count": 5,
   "metadata": {
    "collapsed": true
   },
   "outputs": [],
   "source": [
    "def test_results_budget(clicks, payprice, real_clicks):\n",
    "    \n",
    "    sum_ones = 0\n",
    "    spent = 0\n",
    "    click_total = 0\n",
    "\n",
    "    for i in range(0,len(clicks),3):\n",
    "        if (clicks[i] == 1) & (spent < 6250):\n",
    "            click_total = click_total + 1\n",
    "            spent = spent + payprice[i]\n",
    "            if real_clicks[i] == 1:\n",
    "                sum_ones = sum_ones + 1\n",
    "\n",
    "        if spent > 6250:\n",
    "            break\n",
    "\n",
    "    cpc = spent/sum_ones\n",
    "    ctr_1 = sum_ones/click_total\n",
    "    print(\"Sum payed for the clicked ones \", spent, \" successful clicks \", sum_ones, \" out of \", click_total)\n",
    "    print(\"Cost per Click \", cpc)\n",
    "    print(\"CTR \", ctr_1)"
   ]
  },
  {
   "cell_type": "markdown",
   "metadata": {},
   "source": [
    "## clean data"
   ]
  },
  {
   "cell_type": "markdown",
   "metadata": {},
   "source": [
    "In slotformat map Na to 10 and in adexchange map null tu 0"
   ]
  },
  {
   "cell_type": "code",
   "execution_count": 6,
   "metadata": {
    "collapsed": false
   },
   "outputs": [],
   "source": [
    "for index, c in train_df.iterrows():  \n",
    "    if c.slotformat in \"Na\":\n",
    "        train_df.set_value(index, 'slotformat', 10)\n",
    "        \n",
    "d = {'1': 1, '2': 2, '3': 3 ,'4': 4, 'null': 0}\n",
    "train_df['adexchange']=train_df['adexchange'].map(d)"
   ]
  },
  {
   "cell_type": "code",
   "execution_count": 7,
   "metadata": {
    "collapsed": false
   },
   "outputs": [],
   "source": [
    "for index, c in valid_df.iterrows():  \n",
    "    if c.slotformat in \"Na\":\n",
    "        valid_df.set_value(index, 'slotformat', 10)\n",
    "\n",
    "d = {'1': 1, '2': 2, '3': 3 ,'4': 4, 'null': 0}\n",
    "valid_df['adexchange']=valid_df['adexchange'].map(d)"
   ]
  },
  {
   "cell_type": "code",
   "execution_count": null,
   "metadata": {
    "collapsed": true
   },
   "outputs": [],
   "source": [
    "for index, c in test_df.iterrows():  \n",
    "    if c.slotformat in \"Na\":\n",
    "        test_df.set_value(index, 'slotformat', 10)\n",
    "\n",
    "d = {'1': 1, '2': 2, '3': 3 ,'4': 4, 'null': 0}\n",
    "test_df['adexchange']=test_df['adexchange'].map(d)"
   ]
  },
  {
   "cell_type": "code",
   "execution_count": 9,
   "metadata": {
    "collapsed": false
   },
   "outputs": [],
   "source": [
    "#Define features\n",
    "features = [\"weekday\", \"hour\", \"region\", \"city\", \"area\", \"slotprice\", \"advertiser\", \"adexchange\"]\n",
    "# Prepare X and y\n",
    "\n",
    "train_df['area'] = train_df['slotwidth']*train_df['slotheight']\n",
    "\n",
    "\n",
    "X_train = train_df[features]\n",
    "y_train = train_df['click']"
   ]
  },
  {
   "cell_type": "code",
   "execution_count": 10,
   "metadata": {
    "collapsed": false
   },
   "outputs": [
    {
     "data": {
      "text/plain": [
       "XGBRegressor(base_score=0.5, colsample_bylevel=1, colsample_bytree=1, gamma=0,\n",
       "       learning_rate=0.5, max_delta_step=0, max_depth=3,\n",
       "       min_child_weight=1, missing=None, n_estimators=100, nthread=-1,\n",
       "       objective='binary:logistic', reg_alpha=0, reg_lambda=1,\n",
       "       scale_pos_weight=1, seed=0, silent=True, subsample=1)"
      ]
     },
     "execution_count": 10,
     "metadata": {},
     "output_type": "execute_result"
    }
   ],
   "source": [
    "# Train the model to estimate pCTR\n",
    "clf = xgb.XGBRegressor(n_estimators=100, max_depth = 3, learning_rate=0.5, objective= 'binary:logistic')\n",
    "clf.fit(X_train, y_train)"
   ]
  },
  {
   "cell_type": "code",
   "execution_count": 11,
   "metadata": {
    "collapsed": false
   },
   "outputs": [],
   "source": [
    "# preprocess validation set\n",
    "valid_df['area'] = valid_df['slotwidth']*valid_df['slotheight']\n",
    "\n",
    "X_valid = valid_df[features]"
   ]
  },
  {
   "cell_type": "code",
   "execution_count": 12,
   "metadata": {
    "collapsed": true
   },
   "outputs": [],
   "source": [
    "## predicts probabilities of being clicked for validation\n",
    "y_p_valid = clf.predict(X_valid)"
   ]
  },
  {
   "cell_type": "code",
   "execution_count": 13,
   "metadata": {
    "collapsed": false
   },
   "outputs": [
    {
     "name": "stdout",
     "output_type": "stream",
     "text": [
      "Average CTR  0.000755362039884\n"
     ]
    }
   ],
   "source": [
    "avgCTR = sum(y_p_valid)/len(y_p_valid)\n",
    "print(\"Average CTR \", avgCTR)"
   ]
  },
  {
   "cell_type": "code",
   "execution_count": 14,
   "metadata": {
    "collapsed": false
   },
   "outputs": [],
   "source": [
    "def calculate_bid_q(base_bid, y_pred, avgCTR):\n",
    "    bid = np.multiply(y_pred**2, base_bid/avgCTR)\n",
    "    return bid"
   ]
  },
  {
   "cell_type": "code",
   "execution_count": 15,
   "metadata": {
    "collapsed": true
   },
   "outputs": [],
   "source": [
    "def max_bid_base_q(prices, y_p_valid, avgCTR):\n",
    "    ration = np.zeros(len(prices))\n",
    "    total = len(valid_df)\n",
    "\n",
    "    for i in range(len(prices)):\n",
    "        tmp = calculate_bid_q(prices[i], y_p_valid, avgCTR) # calculates our bid price\n",
    "        tmp_2 = valid_df.click[valid_df.bidprice < tmp] # stores 0/1 for those auctions we won\n",
    "\n",
    "        if len(tmp_2) == 0:\n",
    "            ration[i] = 0\n",
    "        else:\n",
    "            ration[i] = sum(tmp_2)/len(tmp_2) # clicked/won actions\n",
    "\n",
    "    print(\"The bid_base with best CTR: \", prices[ration.argmax()])\n",
    "    print(\"CTR for winning bid_base is \", ration.max())\n",
    "    \n",
    "    return prices[ration.argmax()]"
   ]
  },
  {
   "cell_type": "code",
   "execution_count": 17,
   "metadata": {
    "collapsed": false
   },
   "outputs": [
    {
     "name": "stdout",
     "output_type": "stream",
     "text": [
      "The bid_base with best CTR:  1904\n",
      "CTR for winning bid_base is  0.012987012987\n",
      "Cost for valid set  39816 , CPC  6636.0  impressions  462  clicks  6\n"
     ]
    }
   ],
   "source": [
    "prices_q = range(100, 45000, 1)\n",
    "\n",
    "bid_base_q = max_bid_base_q(prices_q, y_p_valid, avgCTR)\n",
    "predicted_bid_v_q = calculate_bid_q(bid_base_q, y_p_valid, avgCTR)\n",
    "\n",
    "imps_q = valid_df.bidprice < predicted_bid_v_q\n",
    "clicks_q = valid_df.click[imps_q == 1]\n",
    "total_cost_q = sum(valid_df.payprice[imps_q])\n",
    "\n",
    "print(\"Cost for valid set \", total_cost_q, \", CPC \", (total_cost_q/sum(clicks_q)), \" impressions \",\\\n",
    "      sum(imps_q),\" clicks \", sum(clicks_q))"
   ]
  },
  {
   "cell_type": "code",
   "execution_count": 18,
   "metadata": {
    "collapsed": false
   },
   "outputs": [
    {
     "name": "stdout",
     "output_type": "stream",
     "text": [
      "Sum payed for the clicked ones  6340  successful clicks  1  out of  76\n",
      "Cost per Click  6340.0\n",
      "CTR  0.013157894736842105\n"
     ]
    }
   ],
   "source": [
    "test_results_budget(imps_q, valid_df.payprice, valid_df.click)"
   ]
  },
  {
   "cell_type": "markdown",
   "metadata": {},
   "source": [
    "Test set"
   ]
  },
  {
   "cell_type": "code",
   "execution_count": null,
   "metadata": {
    "collapsed": true
   },
   "outputs": [],
   "source": [
    "# preprocess validation set\n",
    "test_df['area'] = test_df['slotwidth']*test_df['slotheight']\n",
    "\n",
    "X_test = test_df[features]"
   ]
  },
  {
   "cell_type": "code",
   "execution_count": null,
   "metadata": {
    "collapsed": true
   },
   "outputs": [],
   "source": [
    "## predicts probabilities of being clicked for validation\n",
    "y_p_test = clf.predict(X_test)"
   ]
  },
  {
   "cell_type": "code",
   "execution_count": null,
   "metadata": {
    "collapsed": true
   },
   "outputs": [],
   "source": [
    "avgCTR_test = sum(y_p_test)/len(y_p_test)\n",
    "print(\"Average CTR for test datatset \", avgCTR_test)"
   ]
  },
  {
   "cell_type": "code",
   "execution_count": null,
   "metadata": {
    "collapsed": true
   },
   "outputs": [],
   "source": [
    "bid_base_test = max_bid_base(prices_q, y_p_test, avgCTR_test)\n",
    "predicted_bid_t_q = calculate_bid_q(bid_base_test, y_p_test, avgCTR_test)"
   ]
  }
 ],
 "metadata": {
  "anaconda-cloud": {},
  "kernelspec": {
   "display_name": "Python 3",
   "language": "python",
   "name": "python3"
  },
  "language_info": {
   "codemirror_mode": {
    "name": "ipython",
    "version": 3
   },
   "file_extension": ".py",
   "mimetype": "text/x-python",
   "name": "python",
   "nbconvert_exporter": "python",
   "pygments_lexer": "ipython3",
   "version": "3.5.2"
  }
 },
 "nbformat": 4,
 "nbformat_minor": 1
}
